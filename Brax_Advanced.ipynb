{
 "cells": [
  {
   "cell_type": "markdown",
   "metadata": {},
   "source": [
    "<!-- html image label \"fig:explainer\" -->\n",
    "<img src=\"figure/image1.gif\" alt=\"Explainer\" width=\"800\">"
   ]
  },
  {
   "cell_type": "code",
   "execution_count": 1,
   "metadata": {},
   "outputs": [
    {
     "name": "stdout",
     "output_type": "stream",
     "text": [
      "1,3\n"
     ]
    },
    {
     "name": "stdout",
     "output_type": "stream",
     "text": [
      "n-62-12-19\n",
      "17108727\n"
     ]
    }
   ],
   "source": [
    "# jupyter lab --port=44000 --ip=$HOSTNAME --no-browser\n",
    "\n",
    "import os\n",
    "jobID = os.getenv('LSB_JOBID')\n",
    "host = os.getenv('HOSTNAME')\n",
    "os.environ['CUDA_VISIBLE_DEVICES'] = '1,3'\n",
    "!echo $CUDA_VISIBLE_DEVICES\n",
    "!echo $HOSTNAME\n",
    "!echo $LSB_JOBID\n",
    "# !nvidia-smi"
   ]
  },
  {
   "cell_type": "code",
   "execution_count": 2,
   "metadata": {},
   "outputs": [
    {
     "name": "stdout",
     "output_type": "stream",
     "text": [
      "gpu\n",
      "env: MUJOCO_GL=egl\n"
     ]
    }
   ],
   "source": [
    "import mujoco\n",
    "import jax\n",
    "import brax\n",
    "from jax import numpy as jp\n",
    "from matplotlib import rc\n",
    "from matplotlib.lines import Line2D\n",
    "from matplotlib.patches import Circle\n",
    "import matplotlib.pyplot as plt\n",
    "from brax.io import mjcf\n",
    "import mediapy as media\n",
    "from jax.lib import xla_bridge\n",
    "print(xla_bridge.get_backend().platform)\n",
    "rc('animation', html='jshtml')\n",
    "%env MUJOCO_GL=egl"
   ]
  },
  {
   "cell_type": "code",
   "execution_count": 7,
   "metadata": {},
   "outputs": [
    {
     "name": "stdout",
     "output_type": "stream",
     "text": [
      "Brax 目前只支持Euler intergrator\n",
      "Brax 目前只支持球形碰撞体, 令mj.geom_contype[i]和mj.geom_conaffinity[i]=0\n"
     ]
    }
   ],
   "source": [
    "# Load the cartpole environment from file\n",
    "path = f'/work3/s213120/whipping_brax/xml/scene_torque.xml'\n",
    "mj = mujoco.MjModel.from_xml_path(path)\n",
    "# change the intergrator from implicit to euler\n",
    "if mj.opt.integrator != 0:\n",
    "    print(\"Brax 目前只支持Euler intergrator\")\n",
    "    mj.opt.integrator = 0\n",
    "\n",
    "# Barx 目前只支持球形碰撞体, 令mj.geom_contype[i]和mj.geom_conaffinity[i]=0\n",
    "print(\"Brax 目前只支持球形碰撞体, 令mj.geom_contype[i]和mj.geom_conaffinity[i]=0\")\n",
    "for i, typ in enumerate(mj.geom_type):\n",
    "    if typ == 5: # cylinder\n",
    "        mj.geom_contype[i] = 0\n",
    "        mj.geom_conaffinity[i] = 0\n",
    "\n",
    "model = mjcf.load_model(mj)"
   ]
  },
  {
   "cell_type": "markdown",
   "metadata": {},
   "source": [
    "### Whip-Arm-Target"
   ]
  },
  {
   "cell_type": "code",
   "execution_count": 12,
   "metadata": {},
   "outputs": [],
   "source": [
    "path = f'env/whip_1.xml'\n",
    "mj = mujoco.MjModel.from_xml_path(path)\n",
    "sys = mjcf.load_model(mj)"
   ]
  },
  {
   "cell_type": "code",
   "execution_count": 13,
   "metadata": {},
   "outputs": [
    {
     "data": {
      "text/plain": [
       "(64, 64, 63)"
      ]
     },
     "execution_count": 13,
     "metadata": {},
     "output_type": "execute_result"
    }
   ],
   "source": [
    "sys.q_size(), sys.init_q.shape[0], sys.qd_size()"
   ]
  },
  {
   "cell_type": "markdown",
   "metadata": {},
   "source": [
    "#### Link"
   ]
  },
  {
   "cell_type": "code",
   "execution_count": 14,
   "metadata": {},
   "outputs": [
    {
     "data": {
      "text/plain": [
       "(33, '11111112222222222222222222222222f', 33)"
      ]
     },
     "execution_count": 14,
     "metadata": {},
     "output_type": "execute_result"
    }
   ],
   "source": [
    "sys.num_links(), sys.link_types, len(sys.link_types)"
   ]
  },
  {
   "cell_type": "code",
   "execution_count": 15,
   "metadata": {},
   "outputs": [
    {
     "data": {
      "text/plain": [
       "(33, 5)"
      ]
     },
     "execution_count": 15,
     "metadata": {},
     "output_type": "execute_result"
    }
   ],
   "source": [
    "len(sys.dof_ranges()), len(sys.geoms)"
   ]
  },
  {
   "cell_type": "code",
   "execution_count": 16,
   "metadata": {},
   "outputs": [
    {
     "data": {
      "text/plain": [
       "(33, 33, 33)"
      ]
     },
     "execution_count": 16,
     "metadata": {},
     "output_type": "execute_result"
    }
   ],
   "source": [
    "len(sys.link_names), len(sys.link_parents), len(sys.dof_ranges())"
   ]
  },
  {
   "cell_type": "code",
   "execution_count": 17,
   "metadata": {},
   "outputs": [
    {
     "data": {
      "text/plain": [
       "[('link1', -1, '1', [0]),\n",
       " ('link2', 0, '1', [1]),\n",
       " ('link3', 1, '1', [2]),\n",
       " ('link4', 2, '1', [3]),\n",
       " ('link5', 3, '1', [4]),\n",
       " ('link6', 4, '1', [5]),\n",
       " ('link7', 5, '1', [6]),\n",
       " ('B0', 6, '2', [7, 8]),\n",
       " ('B1', 7, '2', [9, 10]),\n",
       " ('B2', 8, '2', [11, 12]),\n",
       " ('B3', 9, '2', [13, 14]),\n",
       " ('B4', 10, '2', [15, 16]),\n",
       " ('B5', 11, '2', [17, 18]),\n",
       " ('B6', 12, '2', [19, 20]),\n",
       " ('B7', 13, '2', [21, 22]),\n",
       " ('B8', 14, '2', [23, 24]),\n",
       " ('B9', 15, '2', [25, 26]),\n",
       " ('B10', 16, '2', [27, 28]),\n",
       " ('B11', 17, '2', [29, 30]),\n",
       " ('B12', 18, '2', [31, 32]),\n",
       " ('B13', 19, '2', [33, 34]),\n",
       " ('B14', 20, '2', [35, 36]),\n",
       " ('B15', 21, '2', [37, 38]),\n",
       " ('B16', 22, '2', [39, 40]),\n",
       " ('B17', 23, '2', [41, 42]),\n",
       " ('B18', 24, '2', [43, 44]),\n",
       " ('B19', 25, '2', [45, 46]),\n",
       " ('B20', 26, '2', [47, 48]),\n",
       " ('B21', 27, '2', [49, 50]),\n",
       " ('B22', 28, '2', [51, 52]),\n",
       " ('B23', 29, '2', [53, 54]),\n",
       " ('B24', 30, '2', [55, 56]),\n",
       " ('target', -1, 'f', [57, 58, 59, 60, 61, 62])]"
      ]
     },
     "execution_count": 17,
     "metadata": {},
     "output_type": "execute_result"
    }
   ],
   "source": [
    "list(zip(sys.link_names, sys.link_parents, sys.link_types, sys.dof_ranges()))"
   ]
  },
  {
   "cell_type": "markdown",
   "metadata": {},
   "source": [
    "#### DoF"
   ]
  },
  {
   "cell_type": "code",
   "execution_count": 18,
   "metadata": {},
   "outputs": [
    {
     "data": {
      "text/plain": [
       "Array([0, 1, 2, 3, 4, 5, 6], dtype=int32)"
      ]
     },
     "metadata": {},
     "output_type": "display_data"
    },
    {
     "data": {
      "text/plain": [
       "Array([ 7,  8,  9, 10, 11, 12, 13, 14, 15, 16, 17, 18, 19, 20, 21, 22, 23,\n",
       "       24, 25, 26, 27, 28, 29, 30, 31, 32, 33, 34, 35, 36, 37, 38, 39, 40,\n",
       "       41, 42, 43, 44, 45, 46, 47, 48, 49, 50, 51, 52, 53, 54, 55, 56],      dtype=int32)"
      ]
     },
     "metadata": {},
     "output_type": "display_data"
    },
    {
     "data": {
      "text/plain": [
       "Array([57, 58, 59, 60, 61, 62, 63], dtype=int32)"
      ]
     },
     "metadata": {},
     "output_type": "display_data"
    }
   ],
   "source": [
    "display(sys.q_idx(\"1\")) # 7dof: 7joints\n",
    "display(sys.q_idx(\"2\")) # 50dof: 25joints\n",
    "display(sys.q_idx(\"f\")) # 6dof: 1joint"
   ]
  },
  {
   "cell_type": "code",
   "execution_count": 22,
   "metadata": {},
   "outputs": [
    {
     "data": {
      "text/plain": [
       "Array([0, 1, 2, 3, 4, 5, 6], dtype=int32)"
      ]
     },
     "metadata": {},
     "output_type": "display_data"
    },
    {
     "data": {
      "text/plain": [
       "Array([ 7,  8,  9, 10, 11, 12, 13, 14, 15, 16, 17, 18, 19, 20, 21, 22, 23,\n",
       "       24, 25, 26, 27, 28, 29, 30, 31, 32, 33, 34, 35, 36, 37, 38, 39, 40,\n",
       "       41, 42, 43, 44, 45, 46, 47, 48, 49, 50, 51, 52, 53, 54, 55, 56],      dtype=int32)"
      ]
     },
     "metadata": {},
     "output_type": "display_data"
    },
    {
     "data": {
      "text/plain": [
       "Array([57, 58, 59, 60, 61, 62], dtype=int32)"
      ]
     },
     "metadata": {},
     "output_type": "display_data"
    },
    {
     "data": {
      "text/plain": [
       "50"
      ]
     },
     "execution_count": 22,
     "metadata": {},
     "output_type": "execute_result"
    }
   ],
   "source": [
    "display(sys.qd_idx(\"1\")) # 7dof: 7joints\n",
    "display(sys.qd_idx(\"2\")) # 50dof: 25joints\n",
    "display(sys.qd_idx(\"f\")) # 6dof: 1joint\n",
    "len(sys.qd_idx(\"2\"))"
   ]
  },
  {
   "cell_type": "markdown",
   "metadata": {},
   "source": [
    "### Update the model"
   ]
  },
  {
   "cell_type": "code",
   "execution_count": 23,
   "metadata": {},
   "outputs": [],
   "source": [
    "from brax.generalized import pipeline\n",
    "from brax import kinematics\n",
    "\n",
    "q = sys.init_q\n",
    "qd = jp.zeros(sys.qd_size())\n",
    "x, xd = kinematics.forward(sys, q, qd)\n",
    "state = jax.jit(pipeline.init)(sys, q, qd)"
   ]
  },
  {
   "cell_type": "code",
   "execution_count": 24,
   "metadata": {},
   "outputs": [
    {
     "data": {
      "image/png": "[encoded data removed]",
      "text/plain": [
       "<Figure size 1200x400 with 3 Axes>"
      ]
     },
     "metadata": {},
     "output_type": "display_data"
    }
   ],
   "source": [
    "def visualize(axes, pos, alpha=1):\n",
    "    assert axes.shape == (3,)\n",
    "    x_arm = jp.vstack([jp.zeros((1,3)), pos[:7]])\n",
    "    joint_names = ['jnt-1', 'jnt-2', 'jnt-3', 'jnt-4', 'jnt-5', 'jnt-6', 'jnt-7']\n",
    "    title = ['X-Z view', 'X-Y view', 'Y-Z view']\n",
    "    xlim = [(-1, 1), (-1, 1), (-1, 1)]\n",
    "    ylim = [(-0.5, 1.5), (-1, 1), (-0.5, 1.5)]\n",
    "    for i in range(3):\n",
    "        axes[i].plot(x_arm[:, i//2], x_arm[:, 2-i%2], linewidth=5, label='Arm', alpha=alpha)\n",
    "        axes[i].plot(pos[7:-1, i//2], pos[7:-1, 2-i%2], linewidth=3, color='gray', label='Whip', alpha=alpha)\n",
    "        axes[i].scatter(pos[-1, i//2], pos[-1, 2-i%2], s=300, c='gray', edgecolors='black', label='Target', alpha=alpha)\n",
    "        axes[i].scatter(pos[:7, i//2], pos[:7, 2-i%2], s=150, c='orange', edgecolors='face', label='Joint')\n",
    "        axes[i].grid()\n",
    "        axes[i].set_title(title[i])\n",
    "        axes[i].set_xlabel(title[i][0:1])\n",
    "        axes[i].set_ylabel(title[i][2:3])\n",
    "        axes[i].set_xlim(*xlim[i])\n",
    "        axes[i].set_ylim(*ylim[i])\n",
    "    legend = axes[-1].legend(['Arm', 'Whip', 'Target'], loc='upper right', title='Components', bbox_to_anchor=(1.4, 1))\n",
    "    axes[-1].add_artist(legend)\n",
    "\n",
    "_, axes = plt.subplots(1,3, figsize=(12, 4))\n",
    "plt.axis ('equal')\n",
    "visualize(axes, x.pos, alpha=1)\n",
    "plt.tight_layout()"
   ]
  },
  {
   "cell_type": "code",
   "execution_count": 25,
   "metadata": {},
   "outputs": [],
   "source": [
    "def _random_target(rng: jp.ndarray):\n",
    "    \"\"\"Returns a target location and velocity.\"\"\"\n",
    "    mocap = jp.load('env/mocap.npy')\n",
    "    rngs = jax.random.split(rng, 5)\n",
    "    # target position and velocity\n",
    "    mp_idx = jax.random.randint(rngs[1], (1,), 0, mocap.shape[1]-250)[0]\n",
    "    pos_offset = 0.05 * jax.random.uniform(rngs[2], (3,), minval=-1, maxval=1)    \n",
    "    vel_offset = 0.05 * jax.random.uniform(rngs[3], (3,), minval=-1, maxval=1)\n",
    "    ang_offset = jp.pi / 36 * jax.random.uniform(rngs[3], (1,), minval=-1, maxval=1)[0]\n",
    "    q_pos = mocap[mp_idx, 1:4] + pos_offset\n",
    "    _, y_vel, z_vel = mocap[mp_idx, 4:] + vel_offset\n",
    "    x_vel, y_vel = jp.sin(ang_offset) * y_vel, jp.cos(ang_offset) * y_vel\n",
    "    q_vel = jp.array([x_vel, y_vel, z_vel])\n",
    "\n",
    "    return rng, q_pos, q_vel"
   ]
  },
  {
   "cell_type": "code",
   "execution_count": 26,
   "metadata": {},
   "outputs": [],
   "source": [
    "path = f'env/whip_1.xml'\n",
    "mj = mujoco.MjModel.from_xml_path(path)\n",
    "sys = mjcf.load_model(mj)"
   ]
  },
  {
   "cell_type": "code",
   "execution_count": 27,
   "metadata": {},
   "outputs": [
    {
     "data": {
      "text/plain": [
       "(33, 33)"
      ]
     },
     "execution_count": 27,
     "metadata": {},
     "output_type": "execute_result"
    }
   ],
   "source": [
    "len(sys.link_names), len(sys.dof_ranges())"
   ]
  },
  {
   "cell_type": "code",
   "execution_count": 28,
   "metadata": {},
   "outputs": [
    {
     "data": {
      "text/plain": [
       "[('link1', -1, '1', [0]),\n",
       " ('link2', 0, '1', [1]),\n",
       " ('link3', 1, '1', [2]),\n",
       " ('link4', 2, '1', [3]),\n",
       " ('link5', 3, '1', [4]),\n",
       " ('link6', 4, '1', [5]),\n",
       " ('link7', 5, '1', [6]),\n",
       " ('B0', 6, '2', [7, 8]),\n",
       " ('B1', 7, '2', [9, 10]),\n",
       " ('B2', 8, '2', [11, 12]),\n",
       " ('B3', 9, '2', [13, 14]),\n",
       " ('B4', 10, '2', [15, 16]),\n",
       " ('B5', 11, '2', [17, 18]),\n",
       " ('B6', 12, '2', [19, 20]),\n",
       " ('B7', 13, '2', [21, 22]),\n",
       " ('B8', 14, '2', [23, 24]),\n",
       " ('B9', 15, '2', [25, 26]),\n",
       " ('B10', 16, '2', [27, 28]),\n",
       " ('B11', 17, '2', [29, 30]),\n",
       " ('B12', 18, '2', [31, 32]),\n",
       " ('B13', 19, '2', [33, 34]),\n",
       " ('B14', 20, '2', [35, 36]),\n",
       " ('B15', 21, '2', [37, 38]),\n",
       " ('B16', 22, '2', [39, 40]),\n",
       " ('B17', 23, '2', [41, 42]),\n",
       " ('B18', 24, '2', [43, 44]),\n",
       " ('B19', 25, '2', [45, 46]),\n",
       " ('B20', 26, '2', [47, 48]),\n",
       " ('B21', 27, '2', [49, 50]),\n",
       " ('B22', 28, '2', [51, 52]),\n",
       " ('B23', 29, '2', [53, 54]),\n",
       " ('B24', 30, '2', [55, 56]),\n",
       " ('target', -1, 'f', [57, 58, 59, 60, 61, 62])]"
      ]
     },
     "execution_count": 28,
     "metadata": {},
     "output_type": "execute_result"
    }
   ],
   "source": [
    "list(zip(sys.link_names, sys.link_parents, sys.link_types, sys.dof_ranges()))"
   ]
  },
  {
   "cell_type": "code",
   "execution_count": 29,
   "metadata": {},
   "outputs": [],
   "source": [
    "rng = jax.random.PRNGKey(0)\n",
    "_, q_pos, q_vel = _random_target(rng)\n",
    "q = jp.zeros(sys.q_size())\n",
    "qd = jp.zeros(sys.qd_size())\n",
    "qd = qd.at[-6:-3].set(q_vel)\n",
    "# x, xd = kinematics.forward(sys, q, qd)\n"
   ]
  },
  {
   "cell_type": "code",
   "execution_count": 133,
   "metadata": {},
   "outputs": [
    {
     "name": "stdout",
     "output_type": "stream",
     "text": [
      "(3,) (3,)\n"
     ]
    },
    {
     "ename": "TypeError",
     "evalue": "take requires ndarray or scalar arguments, got <class 'NoneType'> at position 1.",
     "output_type": "error",
     "traceback": [
      "\u001b[0;31m---------------------------------------------------------------------------\u001b[0m",
      "\u001b[0;31mTypeError\u001b[0m                                 Traceback (most recent call last)",
      "\u001b[1;32m/work3/s213120/whipping_brax/explainer.ipynb Cell 21\u001b[0m in \u001b[0;36m9\n\u001b[1;32m      <a href='vscode-notebook-cell://ssh-remote%2Blogin2.gbar.dtu.dk/work3/s213120/whipping_brax/explainer.ipynb#X36sdnNjb2RlLXJlbW90ZQ%3D%3D?line=6'>7</a>\u001b[0m qd \u001b[39m=\u001b[39m qd\u001b[39m.\u001b[39mat[\u001b[39m-\u001b[39m\u001b[39m6\u001b[39m:\u001b[39m-\u001b[39m\u001b[39m3\u001b[39m]\u001b[39m.\u001b[39mset(q_vel)\n\u001b[1;32m      <a href='vscode-notebook-cell://ssh-remote%2Blogin2.gbar.dtu.dk/work3/s213120/whipping_brax/explainer.ipynb#X36sdnNjb2RlLXJlbW90ZQ%3D%3D?line=7'>8</a>\u001b[0m \u001b[39m# x, xd = kinematics.forward(sys, q, qd)\u001b[39;00m\n\u001b[0;32m----> <a href='vscode-notebook-cell://ssh-remote%2Blogin2.gbar.dtu.dk/work3/s213120/whipping_brax/explainer.ipynb#X36sdnNjb2RlLXJlbW90ZQ%3D%3D?line=8'>9</a>\u001b[0m state \u001b[39m=\u001b[39m jax\u001b[39m.\u001b[39;49mjit(pipeline\u001b[39m.\u001b[39;49minit)(sys, q, qd)\n\u001b[1;32m     <a href='vscode-notebook-cell://ssh-remote%2Blogin2.gbar.dtu.dk/work3/s213120/whipping_brax/explainer.ipynb#X36sdnNjb2RlLXJlbW90ZQ%3D%3D?line=10'>11</a>\u001b[0m \u001b[39m# xpos = []\u001b[39;00m\n\u001b[1;32m     <a href='vscode-notebook-cell://ssh-remote%2Blogin2.gbar.dtu.dk/work3/s213120/whipping_brax/explainer.ipynb#X36sdnNjb2RlLXJlbW90ZQ%3D%3D?line=11'>12</a>\u001b[0m \u001b[39m# for i in range(1500):\u001b[39;00m\n\u001b[1;32m     <a href='vscode-notebook-cell://ssh-remote%2Blogin2.gbar.dtu.dk/work3/s213120/whipping_brax/explainer.ipynb#X36sdnNjb2RlLXJlbW90ZQ%3D%3D?line=12'>13</a>\u001b[0m \u001b[39m#     state = jax.jit(pipeline.step)(sys, state, None)\u001b[39;00m\n\u001b[1;32m     <a href='vscode-notebook-cell://ssh-remote%2Blogin2.gbar.dtu.dk/work3/s213120/whipping_brax/explainer.ipynb#X36sdnNjb2RlLXJlbW90ZQ%3D%3D?line=13'>14</a>\u001b[0m \u001b[39m#     xpos.append(state.x.pos)\u001b[39;00m\n",
      "    \u001b[0;31m[... skipping hidden 12 frame]\u001b[0m\n",
      "File \u001b[0;32m~/.local/lib/python3.9/site-packages/brax/generalized/pipeline.py:48\u001b[0m, in \u001b[0;36minit\u001b[0;34m(sys, q, qd, debug)\u001b[0m\n\u001b[1;32m     46\u001b[0m state \u001b[39m=\u001b[39m dynamics\u001b[39m.\u001b[39mtransform_com(sys, state)\n\u001b[1;32m     47\u001b[0m state \u001b[39m=\u001b[39m mass\u001b[39m.\u001b[39mmatrix_inv(sys, state, \u001b[39m0\u001b[39m)\n\u001b[0;32m---> 48\u001b[0m state \u001b[39m=\u001b[39m constraint\u001b[39m.\u001b[39;49mjacobian(sys, state)\n\u001b[1;32m     49\u001b[0m \u001b[39mif\u001b[39;00m debug:\n\u001b[1;32m     50\u001b[0m   state \u001b[39m=\u001b[39m state\u001b[39m.\u001b[39mreplace(contact\u001b[39m=\u001b[39mgeometry\u001b[39m.\u001b[39mcontact(sys, state\u001b[39m.\u001b[39mx))\n",
      "File \u001b[0;32m~/.local/lib/python3.9/site-packages/brax/generalized/constraint.py:190\u001b[0m, in \u001b[0;36mjacobian\u001b[0;34m(sys, state)\u001b[0m\n\u001b[1;32m    180\u001b[0m \u001b[39mdef\u001b[39;00m \u001b[39mjacobian\u001b[39m(sys: System, state: State) \u001b[39m-\u001b[39m\u001b[39m>\u001b[39m State:\n\u001b[1;32m    181\u001b[0m   \u001b[39m\"\"\"Calculates the constraint jacobian, position, and A matrix diagonal.\u001b[39;00m\n\u001b[1;32m    182\u001b[0m \n\u001b[1;32m    183\u001b[0m \u001b[39m  Args:\u001b[39;00m\n\u001b[0;32m   (...)\u001b[0m\n\u001b[1;32m    188\u001b[0m \u001b[39m    state: generalized state with jac, pos, diag, aref updated\u001b[39;00m\n\u001b[1;32m    189\u001b[0m \u001b[39m  \"\"\"\u001b[39;00m\n\u001b[0;32m--> 190\u001b[0m   jpds \u001b[39m=\u001b[39m jac_contact(sys, state), jac_limit(sys, state)\n\u001b[1;32m    191\u001b[0m   jac, diag, aref \u001b[39m=\u001b[39m jax\u001b[39m.\u001b[39mtree_map(\u001b[39mlambda\u001b[39;00m \u001b[39m*\u001b[39mx: jp\u001b[39m.\u001b[39mconcatenate(x), \u001b[39m*\u001b[39mjpds)\n\u001b[1;32m    192\u001b[0m   \u001b[39mreturn\u001b[39;00m state\u001b[39m.\u001b[39mreplace(con_jac\u001b[39m=\u001b[39mjac, con_diag\u001b[39m=\u001b[39mdiag, con_aref\u001b[39m=\u001b[39maref)\n",
      "File \u001b[0;32m~/.local/lib/python3.9/site-packages/brax/generalized/constraint.py:149\u001b[0m, in \u001b[0;36mjac_contact\u001b[0;34m(sys, state)\u001b[0m\n\u001b[1;32m    135\u001b[0m \u001b[39mdef\u001b[39;00m \u001b[39mjac_contact\u001b[39m(\n\u001b[1;32m    136\u001b[0m     sys: System, state: State\n\u001b[1;32m    137\u001b[0m ) \u001b[39m-\u001b[39m\u001b[39m>\u001b[39m Tuple[jp\u001b[39m.\u001b[39mndarray, jp\u001b[39m.\u001b[39mndarray, jp\u001b[39m.\u001b[39mndarray]:\n\u001b[1;32m    138\u001b[0m   \u001b[39m\"\"\"Calculates the jacobian for contact constraints.\u001b[39;00m\n\u001b[1;32m    139\u001b[0m \n\u001b[1;32m    140\u001b[0m \u001b[39m  Args:\u001b[39;00m\n\u001b[0;32m   (...)\u001b[0m\n\u001b[1;32m    147\u001b[0m \u001b[39m    diag: approximate diagonal of A matrix\u001b[39;00m\n\u001b[1;32m    148\u001b[0m \u001b[39m  \"\"\"\u001b[39;00m\n\u001b[0;32m--> 149\u001b[0m   contact \u001b[39m=\u001b[39m geometry\u001b[39m.\u001b[39;49mcontact(sys, state\u001b[39m.\u001b[39;49mx)\n\u001b[1;32m    151\u001b[0m   \u001b[39mif\u001b[39;00m contact \u001b[39mis\u001b[39;00m \u001b[39mNone\u001b[39;00m:\n\u001b[1;32m    152\u001b[0m     \u001b[39mreturn\u001b[39;00m jp\u001b[39m.\u001b[39mzeros((\u001b[39m0\u001b[39m, sys\u001b[39m.\u001b[39mqd_size())), jp\u001b[39m.\u001b[39mzeros((\u001b[39m0\u001b[39m,)), jp\u001b[39m.\u001b[39mzeros((\u001b[39m0\u001b[39m,))\n",
      "File \u001b[0;32m~/.local/lib/python3.9/site-packages/brax/geometry/contact.py:542\u001b[0m, in \u001b[0;36mcontact\u001b[0;34m(sys, x)\u001b[0m\n\u001b[1;32m    540\u001b[0m   \u001b[39mif\u001b[39;00m fun \u001b[39mis\u001b[39;00m \u001b[39mNone\u001b[39;00m:\n\u001b[1;32m    541\u001b[0m     \u001b[39mraise\u001b[39;00m \u001b[39mRuntimeError\u001b[39;00m(\u001b[39mf\u001b[39m\u001b[39m'\u001b[39m\u001b[39munrecognized collider pair: \u001b[39m\u001b[39m{\u001b[39;00mkey\u001b[39m}\u001b[39;00m\u001b[39m'\u001b[39m)\n\u001b[0;32m--> 542\u001b[0m tx_i \u001b[39m=\u001b[39m x\u001b[39m.\u001b[39;49mtake(geom_i\u001b[39m.\u001b[39;49mlink_idx)\u001b[39m.\u001b[39mvmap()\u001b[39m.\u001b[39mdo(geom_i\u001b[39m.\u001b[39mtransform)\n\u001b[1;32m    544\u001b[0m \u001b[39mif\u001b[39;00m geom_i \u001b[39mis\u001b[39;00m geom_j:\n\u001b[1;32m    545\u001b[0m   geom_i \u001b[39m=\u001b[39m geom_i\u001b[39m.\u001b[39mreplace(transform\u001b[39m=\u001b[39mtx_i)\n",
      "File \u001b[0;32m~/.local/lib/python3.9/site-packages/brax/base.py:61\u001b[0m, in \u001b[0;36mBase.take\u001b[0;34m(self, i, axis)\u001b[0m\n\u001b[1;32m     60\u001b[0m \u001b[39mdef\u001b[39;00m \u001b[39mtake\u001b[39m(\u001b[39mself\u001b[39m, i, axis\u001b[39m=\u001b[39m\u001b[39m0\u001b[39m) \u001b[39m-\u001b[39m\u001b[39m>\u001b[39m Any:\n\u001b[0;32m---> 61\u001b[0m   \u001b[39mreturn\u001b[39;00m tree_map(\u001b[39mlambda\u001b[39;49;00m x: jp\u001b[39m.\u001b[39;49mtake(x, i, axis\u001b[39m=\u001b[39;49maxis, mode\u001b[39m=\u001b[39;49m\u001b[39m'\u001b[39;49m\u001b[39mwrap\u001b[39;49m\u001b[39m'\u001b[39;49m), \u001b[39mself\u001b[39;49m)\n",
      "    \u001b[0;31m[... skipping hidden 2 frame]\u001b[0m\n",
      "File \u001b[0;32m~/.local/lib/python3.9/site-packages/brax/base.py:61\u001b[0m, in \u001b[0;36mBase.take.<locals>.<lambda>\u001b[0;34m(x)\u001b[0m\n\u001b[1;32m     60\u001b[0m \u001b[39mdef\u001b[39;00m \u001b[39mtake\u001b[39m(\u001b[39mself\u001b[39m, i, axis\u001b[39m=\u001b[39m\u001b[39m0\u001b[39m) \u001b[39m-\u001b[39m\u001b[39m>\u001b[39m Any:\n\u001b[0;32m---> 61\u001b[0m   \u001b[39mreturn\u001b[39;00m tree_map(\u001b[39mlambda\u001b[39;00m x: jp\u001b[39m.\u001b[39;49mtake(x, i, axis\u001b[39m=\u001b[39;49maxis, mode\u001b[39m=\u001b[39;49m\u001b[39m'\u001b[39;49m\u001b[39mwrap\u001b[39;49m\u001b[39m'\u001b[39;49m), \u001b[39mself\u001b[39m)\n",
      "File \u001b[0;32m~/.local/lib/python3.9/site-packages/jax/_src/numpy/lax_numpy.py:3833\u001b[0m, in \u001b[0;36mtake\u001b[0;34m(a, indices, axis, out, mode, unique_indices, indices_are_sorted, fill_value)\u001b[0m\n\u001b[1;32m   3810\u001b[0m \u001b[39m@util\u001b[39m\u001b[39m.\u001b[39m_wraps(np\u001b[39m.\u001b[39mtake, skip_params\u001b[39m=\u001b[39m[\u001b[39m'\u001b[39m\u001b[39mout\u001b[39m\u001b[39m'\u001b[39m],\n\u001b[1;32m   3811\u001b[0m         lax_description\u001b[39m=\u001b[39m\u001b[39m\"\"\"\u001b[39m\n\u001b[1;32m   3812\u001b[0m \u001b[39mBy default, JAX assumes that all indices are in-bounds. Alternative out-of-bound\u001b[39m\n\u001b[0;32m   (...)\u001b[0m\n\u001b[1;32m   3831\u001b[0m \u001b[39mdef\u001b[39;00m \u001b[39mtake\u001b[39m(a, indices, axis: Optional[\u001b[39mint\u001b[39m] \u001b[39m=\u001b[39m \u001b[39mNone\u001b[39;00m, out\u001b[39m=\u001b[39m\u001b[39mNone\u001b[39;00m, mode\u001b[39m=\u001b[39m\u001b[39mNone\u001b[39;00m,\n\u001b[1;32m   3832\u001b[0m          unique_indices\u001b[39m=\u001b[39m\u001b[39mFalse\u001b[39;00m, indices_are_sorted\u001b[39m=\u001b[39m\u001b[39mFalse\u001b[39;00m, fill_value\u001b[39m=\u001b[39m\u001b[39mNone\u001b[39;00m):\n\u001b[0;32m-> 3833\u001b[0m   \u001b[39mreturn\u001b[39;00m _take(a, indices, \u001b[39mNone\u001b[39;49;00m \u001b[39mif\u001b[39;49;00m axis \u001b[39mis\u001b[39;49;00m \u001b[39mNone\u001b[39;49;00m \u001b[39melse\u001b[39;49;00m operator\u001b[39m.\u001b[39;49mindex(axis), out,\n\u001b[1;32m   3834\u001b[0m                mode, unique_indices\u001b[39m=\u001b[39;49munique_indices, indices_are_sorted\u001b[39m=\u001b[39;49mindices_are_sorted,\n\u001b[1;32m   3835\u001b[0m                fill_value\u001b[39m=\u001b[39;49mfill_value)\n",
      "    \u001b[0;31m[... skipping hidden 12 frame]\u001b[0m\n",
      "File \u001b[0;32m~/.local/lib/python3.9/site-packages/jax/_src/numpy/lax_numpy.py:3842\u001b[0m, in \u001b[0;36m_take\u001b[0;34m(a, indices, axis, out, mode, unique_indices, indices_are_sorted, fill_value)\u001b[0m\n\u001b[1;32m   3840\u001b[0m \u001b[39mif\u001b[39;00m out \u001b[39mis\u001b[39;00m \u001b[39mnot\u001b[39;00m \u001b[39mNone\u001b[39;00m:\n\u001b[1;32m   3841\u001b[0m   \u001b[39mraise\u001b[39;00m \u001b[39mNotImplementedError\u001b[39;00m(\u001b[39m\"\u001b[39m\u001b[39mThe \u001b[39m\u001b[39m'\u001b[39m\u001b[39mout\u001b[39m\u001b[39m'\u001b[39m\u001b[39m argument to jnp.take is not supported.\u001b[39m\u001b[39m\"\u001b[39m)\n\u001b[0;32m-> 3842\u001b[0m util\u001b[39m.\u001b[39;49mcheck_arraylike(\u001b[39m\"\u001b[39;49m\u001b[39mtake\u001b[39;49m\u001b[39m\"\u001b[39;49m, a, indices)\n\u001b[1;32m   3843\u001b[0m a \u001b[39m=\u001b[39m asarray(a)\n\u001b[1;32m   3844\u001b[0m indices \u001b[39m=\u001b[39m asarray(indices)\n",
      "File \u001b[0;32m~/.local/lib/python3.9/site-packages/jax/_src/numpy/util.py:328\u001b[0m, in \u001b[0;36mcheck_arraylike\u001b[0;34m(fun_name, *args)\u001b[0m\n\u001b[1;32m    325\u001b[0m pos, arg \u001b[39m=\u001b[39m \u001b[39mnext\u001b[39m((i, arg) \u001b[39mfor\u001b[39;00m i, arg \u001b[39min\u001b[39;00m \u001b[39menumerate\u001b[39m(args)\n\u001b[1;32m    326\u001b[0m                 \u001b[39mif\u001b[39;00m \u001b[39mnot\u001b[39;00m _arraylike(arg))\n\u001b[1;32m    327\u001b[0m msg \u001b[39m=\u001b[39m \u001b[39m\"\u001b[39m\u001b[39m{}\u001b[39;00m\u001b[39m requires ndarray or scalar arguments, got \u001b[39m\u001b[39m{}\u001b[39;00m\u001b[39m at position \u001b[39m\u001b[39m{}\u001b[39;00m\u001b[39m.\u001b[39m\u001b[39m\"\u001b[39m\n\u001b[0;32m--> 328\u001b[0m \u001b[39mraise\u001b[39;00m \u001b[39mTypeError\u001b[39;00m(msg\u001b[39m.\u001b[39mformat(fun_name, \u001b[39mtype\u001b[39m(arg), pos))\n",
      "\u001b[0;31mTypeError\u001b[0m: take requires ndarray or scalar arguments, got <class 'NoneType'> at position 1."
     ]
    }
   ],
   "source": [
    "rng = jax.random.PRNGKey(0)\n",
    "_, q_pos, q_vel = _random_target(rng)\n",
    "\n",
    "q = sys.init_q\n",
    "q = q.at[-7:-4].set(q_pos)\n",
    "qd = jp.zeros(sys.qd_size())\n",
    "qd = qd.at[-6:-3].set(q_vel)\n",
    "state = jax.jit(pipeline.init)(sys, q, qd)\n",
    "\n",
    "xpos = []\n",
    "for i in range(1500):\n",
    "    state = jax.jit(pipeline.step)(sys, state, None)\n",
    "    xpos.append(state.x.pos)"
   ]
  },
  {
   "cell_type": "code",
   "execution_count": 127,
   "metadata": {},
   "outputs": [
    {
     "data": {
      "text/plain": [
       "((36, 3), (36, 3))"
      ]
     },
     "execution_count": 127,
     "metadata": {},
     "output_type": "execute_result"
    }
   ],
   "source": [
    "x.pos.shape, xd.ang.shape"
   ]
  },
  {
   "cell_type": "code",
   "execution_count": null,
   "metadata": {},
   "outputs": [],
   "source": []
  }
 ],
 "metadata": {
  "kernelspec": {
   "display_name": "Python 3 (ipykernel)",
   "language": "python",
   "name": "python3"
  },
  "orig_nbformat": 4
 },
 "nbformat": 4,
 "nbformat_minor": 2
}

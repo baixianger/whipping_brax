{
 "cells": [
  {
   "cell_type": "markdown",
   "metadata": {},
   "source": [
    "<!-- html image label \"fig:explainer\" -->\n",
    "<img src=\"figure/image1.gif\" alt=\"Explainer\" width=\"800\">"
   ]
  },
  {
   "cell_type": "code",
   "execution_count": 1,
   "metadata": {},
   "outputs": [
    {
     "name": "stdout",
     "output_type": "stream",
     "text": [
      "1,3\n"
     ]
    },
    {
     "name": "stdout",
     "output_type": "stream",
     "text": [
      "t1v-n-4a71229d-w-0\n",
      "\n"
     ]
    }
   ],
   "source": [
    "# jupyter lab --port=44000 --ip=$HOSTNAME --no-browser\n",
    "\n",
    "import os\n",
    "jobID = os.getenv('LSB_JOBID')\n",
    "host = os.getenv('HOSTNAME')\n",
    "os.environ['CUDA_VISIBLE_DEVICES'] = '1,3'\n",
    "!echo $CUDA_VISIBLE_DEVICES\n",
    "!echo $HOSTNAME\n",
    "!echo $LSB_JOBID\n",
    "# !nvidia-smi"
   ]
  },
  {
   "cell_type": "code",
   "execution_count": 4,
   "metadata": {},
   "outputs": [
    {
     "name": "stdout",
     "output_type": "stream",
     "text": [
      "tpu\n",
      "env: MUJOCO_GL=egl\n"
     ]
    }
   ],
   "source": [
    "import mujoco\n",
    "import jax\n",
    "import brax\n",
    "from jax import numpy as jp\n",
    "from matplotlib import rc\n",
    "from matplotlib.lines import Line2D\n",
    "from matplotlib.patches import Circle\n",
    "import matplotlib.pyplot as plt\n",
    "from brax.io import mjcf\n",
    "import mediapy as media\n",
    "from jax.lib import xla_bridge\n",
    "print(xla_bridge.get_backend().platform)\n",
    "rc('animation', html='jshtml')\n",
    "%env MUJOCO_GL=egl"
   ]
  },
  {
   "cell_type": "code",
   "execution_count": 7,
   "metadata": {},
   "outputs": [
    {
     "name": "stdout",
     "output_type": "stream",
     "text": [
      "Brax 目前只支持Euler intergrator\n",
      "Brax 目前只支持球形碰撞体, 令mj.geom_contype[i]和mj.geom_conaffinity[i]=0\n"
     ]
    }
   ],
   "source": [
    "# Load the cartpole environment from file\n",
    "path = f'/work3/s213120/whipping_brax/xml/scene_torque.xml'\n",
    "mj = mujoco.MjModel.from_xml_path(path)\n",
    "# change the intergrator from implicit to euler\n",
    "if mj.opt.integrator != 0:\n",
    "    print(\"Brax 目前只支持Euler intergrator\")\n",
    "    mj.opt.integrator = 0\n",
    "\n",
    "# Barx 目前只支持球形碰撞体, 令mj.geom_contype[i]和mj.geom_conaffinity[i]=0\n",
    "print(\"Brax 目前只支持球形碰撞体, 令mj.geom_contype[i]和mj.geom_conaffinity[i]=0\")\n",
    "for i, typ in enumerate(mj.geom_type):\n",
    "    if typ == 5: # cylinder\n",
    "        mj.geom_contype[i] = 0\n",
    "        mj.geom_conaffinity[i] = 0\n",
    "\n",
    "model = mjcf.load_model(mj)"
   ]
  },
  {
   "cell_type": "markdown",
   "metadata": {},
   "source": [
    "### Whip-Arm-Target"
   ]
  },
  {
   "cell_type": "code",
   "execution_count": 3,
   "metadata": {},
   "outputs": [],
   "source": [
    "path = f'env/whip_1.xml'\n",
    "mj = mujoco.MjModel.from_xml_path(path)\n",
    "sys = mjcf.load_model(mj)"
   ]
  },
  {
   "cell_type": "code",
   "execution_count": 13,
   "metadata": {},
   "outputs": [
    {
     "data": {
      "text/plain": [
       "(64, 64, 63)"
      ]
     },
     "execution_count": 13,
     "metadata": {},
     "output_type": "execute_result"
    }
   ],
   "source": [
    "sys.q_size(), sys.init_q.shape[0], sys.qd_size()"
   ]
  },
  {
   "cell_type": "markdown",
   "metadata": {},
   "source": [
    "#### Link"
   ]
  },
  {
   "cell_type": "code",
   "execution_count": 14,
   "metadata": {},
   "outputs": [
    {
     "data": {
      "text/plain": [
       "(33, '11111112222222222222222222222222f', 33)"
      ]
     },
     "execution_count": 14,
     "metadata": {},
     "output_type": "execute_result"
    }
   ],
   "source": [
    "sys.num_links(), sys.link_types, len(sys.link_types)"
   ]
  },
  {
   "cell_type": "code",
   "execution_count": 15,
   "metadata": {},
   "outputs": [
    {
     "data": {
      "text/plain": [
       "(33, 5)"
      ]
     },
     "execution_count": 15,
     "metadata": {},
     "output_type": "execute_result"
    }
   ],
   "source": [
    "len(sys.dof_ranges()), len(sys.geoms)"
   ]
  },
  {
   "cell_type": "code",
   "execution_count": 16,
   "metadata": {},
   "outputs": [
    {
     "data": {
      "text/plain": [
       "(33, 33, 33)"
      ]
     },
     "execution_count": 16,
     "metadata": {},
     "output_type": "execute_result"
    }
   ],
   "source": [
    "len(sys.link_names), len(sys.link_parents), len(sys.dof_ranges())"
   ]
  },
  {
   "cell_type": "code",
   "execution_count": 17,
   "metadata": {},
   "outputs": [
    {
     "data": {
      "text/plain": [
       "[('link1', -1, '1', [0]),\n",
       " ('link2', 0, '1', [1]),\n",
       " ('link3', 1, '1', [2]),\n",
       " ('link4', 2, '1', [3]),\n",
       " ('link5', 3, '1', [4]),\n",
       " ('link6', 4, '1', [5]),\n",
       " ('link7', 5, '1', [6]),\n",
       " ('B0', 6, '2', [7, 8]),\n",
       " ('B1', 7, '2', [9, 10]),\n",
       " ('B2', 8, '2', [11, 12]),\n",
       " ('B3', 9, '2', [13, 14]),\n",
       " ('B4', 10, '2', [15, 16]),\n",
       " ('B5', 11, '2', [17, 18]),\n",
       " ('B6', 12, '2', [19, 20]),\n",
       " ('B7', 13, '2', [21, 22]),\n",
       " ('B8', 14, '2', [23, 24]),\n",
       " ('B9', 15, '2', [25, 26]),\n",
       " ('B10', 16, '2', [27, 28]),\n",
       " ('B11', 17, '2', [29, 30]),\n",
       " ('B12', 18, '2', [31, 32]),\n",
       " ('B13', 19, '2', [33, 34]),\n",
       " ('B14', 20, '2', [35, 36]),\n",
       " ('B15', 21, '2', [37, 38]),\n",
       " ('B16', 22, '2', [39, 40]),\n",
       " ('B17', 23, '2', [41, 42]),\n",
       " ('B18', 24, '2', [43, 44]),\n",
       " ('B19', 25, '2', [45, 46]),\n",
       " ('B20', 26, '2', [47, 48]),\n",
       " ('B21', 27, '2', [49, 50]),\n",
       " ('B22', 28, '2', [51, 52]),\n",
       " ('B23', 29, '2', [53, 54]),\n",
       " ('B24', 30, '2', [55, 56]),\n",
       " ('target', -1, 'f', [57, 58, 59, 60, 61, 62])]"
      ]
     },
     "execution_count": 17,
     "metadata": {},
     "output_type": "execute_result"
    }
   ],
   "source": [
    "list(zip(sys.link_names, sys.link_parents, sys.link_types, sys.dof_ranges()))"
   ]
  },
  {
   "cell_type": "markdown",
   "metadata": {},
   "source": [
    "#### DoF"
   ]
  },
  {
   "cell_type": "code",
   "execution_count": 18,
   "metadata": {},
   "outputs": [
    {
     "data": {
      "text/plain": [
       "Array([0, 1, 2, 3, 4, 5, 6], dtype=int32)"
      ]
     },
     "metadata": {},
     "output_type": "display_data"
    },
    {
     "data": {
      "text/plain": [
       "Array([ 7,  8,  9, 10, 11, 12, 13, 14, 15, 16, 17, 18, 19, 20, 21, 22, 23,\n",
       "       24, 25, 26, 27, 28, 29, 30, 31, 32, 33, 34, 35, 36, 37, 38, 39, 40,\n",
       "       41, 42, 43, 44, 45, 46, 47, 48, 49, 50, 51, 52, 53, 54, 55, 56],      dtype=int32)"
      ]
     },
     "metadata": {},
     "output_type": "display_data"
    },
    {
     "data": {
      "text/plain": [
       "Array([57, 58, 59, 60, 61, 62, 63], dtype=int32)"
      ]
     },
     "metadata": {},
     "output_type": "display_data"
    }
   ],
   "source": [
    "display(sys.q_idx(\"1\")) # 7dof: 7joints\n",
    "display(sys.q_idx(\"2\")) # 50dof: 25joints\n",
    "display(sys.q_idx(\"f\")) # 6dof: 1joint"
   ]
  },
  {
   "cell_type": "code",
   "execution_count": 22,
   "metadata": {},
   "outputs": [
    {
     "data": {
      "text/plain": [
       "Array([0, 1, 2, 3, 4, 5, 6], dtype=int32)"
      ]
     },
     "metadata": {},
     "output_type": "display_data"
    },
    {
     "data": {
      "text/plain": [
       "Array([ 7,  8,  9, 10, 11, 12, 13, 14, 15, 16, 17, 18, 19, 20, 21, 22, 23,\n",
       "       24, 25, 26, 27, 28, 29, 30, 31, 32, 33, 34, 35, 36, 37, 38, 39, 40,\n",
       "       41, 42, 43, 44, 45, 46, 47, 48, 49, 50, 51, 52, 53, 54, 55, 56],      dtype=int32)"
      ]
     },
     "metadata": {},
     "output_type": "display_data"
    },
    {
     "data": {
      "text/plain": [
       "Array([57, 58, 59, 60, 61, 62], dtype=int32)"
      ]
     },
     "metadata": {},
     "output_type": "display_data"
    },
    {
     "data": {
      "text/plain": [
       "50"
      ]
     },
     "execution_count": 22,
     "metadata": {},
     "output_type": "execute_result"
    }
   ],
   "source": [
    "display(sys.qd_idx(\"1\")) # 7dof: 7joints\n",
    "display(sys.qd_idx(\"2\")) # 50dof: 25joints\n",
    "display(sys.qd_idx(\"f\")) # 6dof: 1joint\n",
    "len(sys.qd_idx(\"2\"))"
   ]
  },
  {
   "cell_type": "markdown",
   "metadata": {},
   "source": [
    "### Visualize the model"
   ]
  },
  {
   "cell_type": "code",
   "execution_count": 5,
   "metadata": {},
   "outputs": [],
   "source": [
    "from brax.generalized import pipeline\n",
    "from brax import kinematics\n",
    "\n",
    "path = f'env/whip_1.xml'\n",
    "mj = mujoco.MjModel.from_xml_path(path)\n",
    "sys = mjcf.load_model(mj)\n",
    "\n",
    "q = sys.init_q\n",
    "qd = jp.zeros(sys.qd_size())\n",
    "x, xd = kinematics.forward(sys, q, qd)\n",
    "state = jax.jit(pipeline.init)(sys, q, qd)"
   ]
  },
  {
   "cell_type": "code",
   "execution_count": 6,
   "metadata": {},
   "outputs": [
    {
     "data": {
      "text/plain": [
       "(Array(True, dtype=bool), (33, 3))"
      ]
     },
     "execution_count": 6,
     "metadata": {},
     "output_type": "execute_result"
    }
   ],
   "source": [
    "state.x.pos.all() == x.pos.all(), x.pos.shape"
   ]
  },
  {
   "cell_type": "code",
   "execution_count": 7,
   "metadata": {},
   "outputs": [
    {
     "data": {
      "image/png": "[encoded data removed]",
      "text/plain": [
       "<Figure size 1200x400 with 3 Axes>"
      ]
     },
     "metadata": {},
     "output_type": "display_data"
    }
   ],
   "source": [
    "def visualize(axes, pos, alpha=1):\n",
    "    assert axes.shape == (3,)\n",
    "    x_arm = jp.vstack([jp.zeros((1,3)), pos[:7]])\n",
    "    joint_names = ['jnt-1', 'jnt-2', 'jnt-3', 'jnt-4', 'jnt-5', 'jnt-6', 'jnt-7']\n",
    "    title = ['X-Z view', 'X-Y view', 'Y-Z view']\n",
    "    xlim = [(-1, 1), (-1, 1), (-1, 1)]\n",
    "    ylim = [(-0.5, 1.5), (-1, 1), (-0.5, 1.5)]\n",
    "    for i in range(3):\n",
    "        axes[i].plot(x_arm[:, i//2], x_arm[:, 2-i%2], linewidth=5, label='Arm', alpha=alpha)\n",
    "        axes[i].plot(pos[7:-1, i//2], pos[7:-1, 2-i%2], linewidth=3, color='gray', label='Whip', alpha=alpha)\n",
    "        axes[i].scatter(pos[-1, i//2], pos[-1, 2-i%2], s=300, c='gray', edgecolors='black', label='Target', alpha=alpha)\n",
    "        axes[i].scatter(pos[:7, i//2], pos[:7, 2-i%2], s=150, c='orange', edgecolors='face', label='Joint')\n",
    "        axes[i].grid()\n",
    "        axes[i].set_title(title[i])\n",
    "        axes[i].set_xlabel(title[i][0:1])\n",
    "        axes[i].set_ylabel(title[i][2:3])\n",
    "        axes[i].set_xlim(*xlim[i])\n",
    "        axes[i].set_ylim(*ylim[i])\n",
    "    legend = axes[-1].legend(['Arm', 'Whip', 'Target'], loc='upper right', title='Components', bbox_to_anchor=(1.4, 1))\n",
    "    axes[-1].add_artist(legend)\n",
    "\n",
    "_, axes = plt.subplots(1,3, figsize=(12, 4))\n",
    "plt.axis ('equal')\n",
    "visualize(axes, x.pos, alpha=1)\n",
    "plt.tight_layout()"
   ]
  },
  {
   "cell_type": "code",
   "execution_count": 8,
   "metadata": {},
   "outputs": [],
   "source": [
    "def _random_target(rng: jp.ndarray):\n",
    "    \"\"\"Returns a target location and velocity.\"\"\"\n",
    "    mocap = jp.load('env/mocap.npy')\n",
    "    rngs = jax.random.split(rng, 5)\n",
    "    # target position and velocity\n",
    "    mp_idx = jax.random.randint(rngs[1], (1,), 0, mocap.shape[1]-250)[0]\n",
    "    pos_offset = 0.05 * jax.random.uniform(rngs[2], (3,), minval=-1, maxval=1)    \n",
    "    vel_offset = 0.05 * jax.random.uniform(rngs[3], (3,), minval=-1, maxval=1)\n",
    "    ang_offset = jp.pi / 36 * jax.random.uniform(rngs[3], (1,), minval=-1, maxval=1)[0]\n",
    "    q_pos = mocap[mp_idx, 1:4] + pos_offset\n",
    "    _, y_vel, z_vel = mocap[mp_idx, 4:] + vel_offset\n",
    "    x_vel, y_vel = jp.sin(ang_offset) * y_vel, jp.cos(ang_offset) * y_vel\n",
    "    q_vel = jp.array([x_vel, y_vel, z_vel])\n",
    "\n",
    "    return rng, q_pos, q_vel"
   ]
  },
  {
   "cell_type": "markdown",
   "metadata": {},
   "source": [
    "### Update Model"
   ]
  },
  {
   "cell_type": "code",
   "execution_count": 24,
   "metadata": {},
   "outputs": [],
   "source": [
    "from brax import actuator\n",
    "from brax import geometry\n",
    "from brax import kinematics\n",
    "from brax.base import System\n",
    "from brax.generalized import constraint\n",
    "from brax.generalized import dynamics\n",
    "from brax.generalized import integrator\n",
    "from brax.generalized import mass\n",
    "from brax.generalized.base import State"
   ]
  },
  {
   "cell_type": "code",
   "execution_count": 34,
   "metadata": {},
   "outputs": [],
   "source": [
    "path = f'env/whip_0.xml'\n",
    "mj = mujoco.MjModel.from_xml_path(path)\n",
    "sys = mjcf.load_model(mj)"
   ]
  },
  {
   "cell_type": "code",
   "execution_count": 35,
   "metadata": {},
   "outputs": [],
   "source": [
    "rng = jax.random.PRNGKey(0)\n",
    "_, q_pos, q_vel = _random_target(rng)\n",
    "act = jp.zeros((7,))\n",
    "\n",
    "q = sys.init_q\n",
    "q = q.at[-7:-4].set(q_pos)\n",
    "qd = jp.zeros(sys.qd_size())\n",
    "qd = qd.at[-6:-3].set(q_vel)\n",
    "state = jax.jit(pipeline.init)(sys, q, qd)"
   ]
  },
  {
   "cell_type": "code",
   "execution_count": 36,
   "metadata": {},
   "outputs": [
    {
     "data": {
      "text/plain": [
       "Array([  0.,   0.,   0., -87.,   0.,   0.,   0.,   0.,   0.,   0.,   0.,\n",
       "         0.,   0.,   0.,   0.,   0.,   0.,   0.,   0.,   0.,   0.,   0.,\n",
       "         0.,   0.,   0.,   0.,   0.,   0.,   0.,   0.,   0.,   0.,   0.,\n",
       "         0.,   0.,   0.,   0.,   0.,   0.,   0.,   0.,   0.,   0.,   0.,\n",
       "         0.,   0.,   0.,   0.,   0.,   0.,   0.,   0.,   0.,   0.,   0.,\n",
       "         0.,   0.,   0.,   0.,   0.,   0.,   0.,   0.], dtype=float32)"
      ]
     },
     "execution_count": 36,
     "metadata": {},
     "output_type": "execute_result"
    }
   ],
   "source": [
    "tau = actuator.to_tau(sys, act, state.q, state.qd)\n",
    "tau"
   ]
  },
  {
   "cell_type": "code",
   "execution_count": 37,
   "metadata": {},
   "outputs": [
    {
     "data": {
      "text/plain": [
       "Array([ 0.0000000e+00,  3.6934159e+00,  0.0000000e+00, -8.3758965e+01,\n",
       "        0.0000000e+00, -1.9532003e+00,  0.0000000e+00, -1.1175871e-08,\n",
       "        1.1920929e-07, -9.3132257e-09,  1.0430813e-07, -7.4505806e-09,\n",
       "        8.9406967e-08, -5.5879354e-09,  7.4505806e-08, -3.7252903e-09,\n",
       "        5.9604645e-08, -3.7252903e-09,  4.4703484e-08, -9.3132257e-10,\n",
       "        2.9802322e-08, -9.3132257e-10,  1.4901161e-08,  0.0000000e+00,\n",
       "        0.0000000e+00,  9.3132257e-10,  0.0000000e+00,  9.3132257e-10,\n",
       "        0.0000000e+00,  9.3132257e-10,  0.0000000e+00,  9.3132257e-10,\n",
       "        0.0000000e+00,  0.0000000e+00,  0.0000000e+00,  0.0000000e+00,\n",
       "        0.0000000e+00,  0.0000000e+00,  0.0000000e+00,  4.6566129e-10,\n",
       "        0.0000000e+00,  4.6566129e-10,  0.0000000e+00,  4.6566129e-10,\n",
       "        0.0000000e+00,  0.0000000e+00,  0.0000000e+00,  0.0000000e+00,\n",
       "        0.0000000e+00,  0.0000000e+00,  1.8626451e-09, -2.3283064e-10,\n",
       "        1.8626451e-09,  0.0000000e+00,  9.3132257e-10,  0.0000000e+00,\n",
       "        4.6566129e-10,  0.0000000e+00,  0.0000000e+00, -5.1365042e+00,\n",
       "        0.0000000e+00,  0.0000000e+00,  0.0000000e+00], dtype=float32)"
      ]
     },
     "execution_count": 37,
     "metadata": {},
     "output_type": "execute_result"
    }
   ],
   "source": [
    "qf_smooth = dynamics.forward(sys, state, tau)\n",
    "state = state.replace(qf_smooth=qf_smooth)\n",
    "qf_smooth"
   ]
  },
  {
   "cell_type": "code",
   "execution_count": 38,
   "metadata": {},
   "outputs": [
    {
     "data": {
      "text/plain": [
       "Array([nan, nan, nan, nan, nan, nan, nan, nan, nan, nan, nan, nan, nan,\n",
       "       nan, nan, nan, nan, nan, nan, nan, nan, nan, nan, nan, nan, nan,\n",
       "       nan, nan, nan, nan, nan, nan, nan, nan, nan, nan, nan, nan, nan,\n",
       "       nan, nan, nan, nan, nan, nan, nan, nan, nan, nan, nan, nan, nan,\n",
       "       nan, nan, nan, nan, nan, nan, nan, nan, nan, nan, nan],      dtype=float32)"
      ]
     },
     "execution_count": 38,
     "metadata": {},
     "output_type": "execute_result"
    }
   ],
   "source": [
    "qf_constraint=constraint.force(sys, state)\n",
    "state = state.replace(qf_constraint=qf_constraint)\n",
    "qf_constraint"
   ]
  },
  {
   "cell_type": "code",
   "execution_count": 39,
   "metadata": {},
   "outputs": [
    {
     "data": {
      "text/plain": [
       "State(q=Array([nan, nan, nan, nan, nan, nan, nan, nan, nan, nan, nan, nan, nan,\n",
       "       nan, nan, nan, nan, nan, nan, nan, nan, nan, nan, nan, nan, nan,\n",
       "       nan, nan, nan, nan, nan, nan, nan, nan, nan, nan, nan, nan, nan,\n",
       "       nan, nan, nan, nan, nan, nan, nan, nan, nan, nan, nan, nan, nan,\n",
       "       nan, nan, nan, nan, nan, nan, nan, nan, nan, nan, nan, nan],      dtype=float32), qd=Array([nan, nan, nan, nan, nan, nan, nan, nan, nan, nan, nan, nan, nan,\n",
       "       nan, nan, nan, nan, nan, nan, nan, nan, nan, nan, nan, nan, nan,\n",
       "       nan, nan, nan, nan, nan, nan, nan, nan, nan, nan, nan, nan, nan,\n",
       "       nan, nan, nan, nan, nan, nan, nan, nan, nan, nan, nan, nan, nan,\n",
       "       nan, nan, nan, nan, nan, nan, nan, nan, nan, nan, nan],      dtype=float32), x=Transform(pos=Array([[ 0.0000000e+00,  0.0000000e+00,  3.3300000e-01],\n",
       "       [ 0.0000000e+00,  0.0000000e+00,  3.3300000e-01],\n",
       "       [ 0.0000000e+00,  0.0000000e+00,  6.4899999e-01],\n",
       "       [ 8.2499996e-02,  0.0000000e+00,  6.4899999e-01],\n",
       "       [ 7.4505806e-09,  0.0000000e+00,  1.0330000e+00],\n",
       "       [ 7.4505806e-09,  0.0000000e+00,  1.0330000e+00],\n",
       "       [ 8.7999992e-02,  0.0000000e+00,  1.0330000e+00],\n",
       "       [ 8.7999992e-02,  0.0000000e+00,  8.8100004e-01],\n",
       "       [ 8.7999992e-02,  0.0000000e+00,  8.4500003e-01],\n",
       "       [ 8.7999992e-02,  0.0000000e+00,  8.0900002e-01],\n",
       "       [ 8.7999992e-02,  0.0000000e+00,  7.7300000e-01],\n",
       "       [ 8.7999992e-02,  0.0000000e+00,  7.3699999e-01],\n",
       "       [ 8.7999992e-02,  0.0000000e+00,  7.0099998e-01],\n",
       "       [ 8.7999992e-02,  0.0000000e+00,  6.6499996e-01],\n",
       "       [ 8.7999992e-02,  0.0000000e+00,  6.2899995e-01],\n",
       "       [ 8.7999992e-02,  0.0000000e+00,  5.9299994e-01],\n",
       "       [ 8.7999992e-02,  0.0000000e+00,  5.5699992e-01],\n",
       "       [ 8.7999992e-02,  0.0000000e+00,  5.2099991e-01],\n",
       "       [ 8.7999992e-02,  0.0000000e+00,  4.8499992e-01],\n",
       "       [ 8.7999992e-02,  0.0000000e+00,  4.4899994e-01],\n",
       "       [ 8.7999992e-02,  0.0000000e+00,  4.1299996e-01],\n",
       "       [ 8.7999992e-02,  0.0000000e+00,  3.7699997e-01],\n",
       "       [ 8.7999992e-02,  0.0000000e+00,  3.4099999e-01],\n",
       "       [ 8.7999992e-02,  0.0000000e+00,  3.0500001e-01],\n",
       "       [ 8.7999992e-02,  0.0000000e+00,  2.6900002e-01],\n",
       "       [ 8.7999992e-02,  0.0000000e+00,  2.3300004e-01],\n",
       "       [ 8.7999992e-02,  0.0000000e+00,  1.9700006e-01],\n",
       "       [ 8.7999992e-02,  0.0000000e+00,  1.6100007e-01],\n",
       "       [ 8.7999992e-02,  0.0000000e+00,  1.2500009e-01],\n",
       "       [ 8.7999992e-02,  0.0000000e+00,  8.9000098e-02],\n",
       "       [ 8.7999992e-02,  0.0000000e+00,  5.3000107e-02],\n",
       "       [ 8.7999992e-02,  0.0000000e+00,  1.7000116e-02],\n",
       "       [-8.7593412e-01, -6.9312930e+00,  1.1472124e-01]], dtype=float32), rot=Array([[ 1.        ,  0.        ,  0.        ,  0.        ],\n",
       "       [ 0.70710677, -0.70710677,  0.        ,  0.        ],\n",
       "       [ 1.        ,  0.        ,  0.        ,  0.        ],\n",
       "       [ 0.7071067 ,  0.7071067 ,  0.        ,  0.        ],\n",
       "       [ 1.        ,  0.        ,  0.        ,  0.        ],\n",
       "       [ 0.7071067 ,  0.7071067 ,  0.        ,  0.        ],\n",
       "       [ 0.        ,  1.        ,  0.        ,  0.        ],\n",
       "       [ 0.        ,  1.        ,  0.        ,  0.        ],\n",
       "       [ 0.        ,  1.        ,  0.        ,  0.        ],\n",
       "       [ 0.        ,  1.        ,  0.        ,  0.        ],\n",
       "       [ 0.        ,  1.        ,  0.        ,  0.        ],\n",
       "       [ 0.        ,  1.        ,  0.        ,  0.        ],\n",
       "       [ 0.        ,  1.        ,  0.        ,  0.        ],\n",
       "       [ 0.        ,  1.        ,  0.        ,  0.        ],\n",
       "       [ 0.        ,  1.        ,  0.        ,  0.        ],\n",
       "       [ 0.        ,  1.        ,  0.        ,  0.        ],\n",
       "       [ 0.        ,  1.        ,  0.        ,  0.        ],\n",
       "       [ 0.        ,  1.        ,  0.        ,  0.        ],\n",
       "       [ 0.        ,  1.        ,  0.        ,  0.        ],\n",
       "       [ 0.        ,  1.        ,  0.        ,  0.        ],\n",
       "       [ 0.        ,  1.        ,  0.        ,  0.        ],\n",
       "       [ 0.        ,  1.        ,  0.        ,  0.        ],\n",
       "       [ 0.        ,  1.        ,  0.        ,  0.        ],\n",
       "       [ 0.        ,  1.        ,  0.        ,  0.        ],\n",
       "       [ 0.        ,  1.        ,  0.        ,  0.        ],\n",
       "       [ 0.        ,  1.        ,  0.        ,  0.        ],\n",
       "       [ 0.        ,  1.        ,  0.        ,  0.        ],\n",
       "       [ 0.        ,  1.        ,  0.        ,  0.        ],\n",
       "       [ 0.        ,  1.        ,  0.        ,  0.        ],\n",
       "       [ 0.        ,  1.        ,  0.        ,  0.        ],\n",
       "       [ 0.        ,  1.        ,  0.        ,  0.        ],\n",
       "       [ 0.        ,  1.        ,  0.        ,  0.        ],\n",
       "       [ 1.        ,  0.        ,  0.        ,  0.        ]],      dtype=float32)), xd=Motion(ang=Array([[0., 0., 0.],\n",
       "       [0., 0., 0.],\n",
       "       [0., 0., 0.],\n",
       "       [0., 0., 0.],\n",
       "       [0., 0., 0.],\n",
       "       [0., 0., 0.],\n",
       "       [0., 0., 0.],\n",
       "       [0., 0., 0.],\n",
       "       [0., 0., 0.],\n",
       "       [0., 0., 0.],\n",
       "       [0., 0., 0.],\n",
       "       [0., 0., 0.],\n",
       "       [0., 0., 0.],\n",
       "       [0., 0., 0.],\n",
       "       [0., 0., 0.],\n",
       "       [0., 0., 0.],\n",
       "       [0., 0., 0.],\n",
       "       [0., 0., 0.],\n",
       "       [0., 0., 0.],\n",
       "       [0., 0., 0.],\n",
       "       [0., 0., 0.],\n",
       "       [0., 0., 0.],\n",
       "       [0., 0., 0.],\n",
       "       [0., 0., 0.],\n",
       "       [0., 0., 0.],\n",
       "       [0., 0., 0.],\n",
       "       [0., 0., 0.],\n",
       "       [0., 0., 0.],\n",
       "       [0., 0., 0.],\n",
       "       [0., 0., 0.],\n",
       "       [0., 0., 0.],\n",
       "       [0., 0., 0.],\n",
       "       [0., 0., 0.]], dtype=float32), vel=Array([[ 0.       ,  0.       ,  0.       ],\n",
       "       [ 0.       ,  0.       ,  0.       ],\n",
       "       [ 0.       ,  0.       ,  0.       ],\n",
       "       [ 0.       ,  0.       ,  0.       ],\n",
       "       [ 0.       ,  0.       ,  0.       ],\n",
       "       [ 0.       ,  0.       ,  0.       ],\n",
       "       [ 0.       ,  0.       ,  0.       ],\n",
       "       [ 0.       ,  0.       ,  0.       ],\n",
       "       [ 0.       ,  0.       ,  0.       ],\n",
       "       [ 0.       ,  0.       ,  0.       ],\n",
       "       [ 0.       ,  0.       ,  0.       ],\n",
       "       [ 0.       ,  0.       ,  0.       ],\n",
       "       [ 0.       ,  0.       ,  0.       ],\n",
       "       [ 0.       ,  0.       ,  0.       ],\n",
       "       [ 0.       ,  0.       ,  0.       ],\n",
       "       [ 0.       ,  0.       ,  0.       ],\n",
       "       [ 0.       ,  0.       ,  0.       ],\n",
       "       [ 0.       ,  0.       ,  0.       ],\n",
       "       [ 0.       ,  0.       ,  0.       ],\n",
       "       [ 0.       ,  0.       ,  0.       ],\n",
       "       [ 0.       ,  0.       ,  0.       ],\n",
       "       [ 0.       ,  0.       ,  0.       ],\n",
       "       [ 0.       ,  0.       ,  0.       ],\n",
       "       [ 0.       ,  0.       ,  0.       ],\n",
       "       [ 0.       ,  0.       ,  0.       ],\n",
       "       [ 0.       ,  0.       ,  0.       ],\n",
       "       [ 0.       ,  0.       ,  0.       ],\n",
       "       [ 0.       ,  0.       ,  0.       ],\n",
       "       [ 0.       ,  0.       ,  0.       ],\n",
       "       [ 0.       ,  0.       ,  0.       ],\n",
       "       [ 0.       ,  0.       ,  0.       ],\n",
       "       [ 0.       ,  0.       ,  0.       ],\n",
       "       [-0.5322151,  6.8883505,  5.8139358]], dtype=float32)), contact=None, root_com=Array([[ 2.41873488e-02,  6.83470536e-03,  6.11068964e-01],\n",
       "       [ 2.41873488e-02,  6.83470536e-03,  6.11068964e-01],\n",
       "       [ 2.41873488e-02,  6.83470536e-03,  6.11068964e-01],\n",
       "       [ 2.41873488e-02,  6.83470536e-03,  6.11068964e-01],\n",
       "       [ 2.41873488e-02,  6.83470536e-03,  6.11068964e-01],\n",
       "       [ 2.41873488e-02,  6.83470536e-03,  6.11068964e-01],\n",
       "       [ 2.41873488e-02,  6.83470536e-03,  6.11068964e-01],\n",
       "       [ 2.41873488e-02,  6.83470536e-03,  6.11068964e-01],\n",
       "       [ 2.41873488e-02,  6.83470536e-03,  6.11068964e-01],\n",
       "       [ 2.41873488e-02,  6.83470536e-03,  6.11068964e-01],\n",
       "       [ 2.41873488e-02,  6.83470536e-03,  6.11068964e-01],\n",
       "       [ 2.41873488e-02,  6.83470536e-03,  6.11068964e-01],\n",
       "       [ 2.41873488e-02,  6.83470536e-03,  6.11068964e-01],\n",
       "       [ 2.41873488e-02,  6.83470536e-03,  6.11068964e-01],\n",
       "       [ 2.41873488e-02,  6.83470536e-03,  6.11068964e-01],\n",
       "       [ 2.41873488e-02,  6.83470536e-03,  6.11068964e-01],\n",
       "       [ 2.41873488e-02,  6.83470536e-03,  6.11068964e-01],\n",
       "       [ 2.41873488e-02,  6.83470536e-03,  6.11068964e-01],\n",
       "       [ 2.41873488e-02,  6.83470536e-03,  6.11068964e-01],\n",
       "       [ 2.41873488e-02,  6.83470536e-03,  6.11068964e-01],\n",
       "       [ 2.41873488e-02,  6.83470536e-03,  6.11068964e-01],\n",
       "       [ 2.41873488e-02,  6.83470536e-03,  6.11068964e-01],\n",
       "       [ 2.41873488e-02,  6.83470536e-03,  6.11068964e-01],\n",
       "       [ 2.41873488e-02,  6.83470536e-03,  6.11068964e-01],\n",
       "       [ 2.41873488e-02,  6.83470536e-03,  6.11068964e-01],\n",
       "       [ 2.41873488e-02,  6.83470536e-03,  6.11068964e-01],\n",
       "       [ 2.41873488e-02,  6.83470536e-03,  6.11068964e-01],\n",
       "       [ 2.41873488e-02,  6.83470536e-03,  6.11068964e-01],\n",
       "       [ 2.41873488e-02,  6.83470536e-03,  6.11068964e-01],\n",
       "       [ 2.41873488e-02,  6.83470536e-03,  6.11068964e-01],\n",
       "       [ 2.41873488e-02,  6.83470536e-03,  6.11068964e-01],\n",
       "       [ 2.41873488e-02,  6.83470536e-03,  6.11068964e-01],\n",
       "       [-8.75934124e-01, -6.93129301e+00,  1.14721246e-01]],      dtype=float32), cinr=Inertia(transform=Transform(pos=Array([[-1.0096627e-01, -2.3629166e-02, -1.6188970e+00],\n",
       "       [-1.7679418e-02, -2.1605422e-03, -1.6131033e-01],\n",
       "       [ 1.0753356e-02,  1.0466262e-01, -9.2244282e-02],\n",
       "       [ 1.8451320e-02, -1.2302424e-01,  5.1073688e-01],\n",
       "       [-4.4306107e-02,  4.1964494e-02,  4.7014293e-01],\n",
       "       [ 5.9932064e-02,  6.1367438e-03,  6.7964453e-01],\n",
       "       [ 5.4671086e-02, -1.8996367e-03,  2.6503360e-01],\n",
       "       [ 7.6575170e-04, -8.2016464e-05,  3.0591732e-03],\n",
       "       [ 7.6575170e-04, -8.2016464e-05,  2.6271730e-03],\n",
       "       [ 7.6575170e-04, -8.2016464e-05,  2.1951727e-03],\n",
       "       [ 7.6575170e-04, -8.2016464e-05,  1.7631727e-03],\n",
       "       [ 7.6575170e-04, -8.2016464e-05,  1.3311725e-03],\n",
       "       [ 7.6575170e-04, -8.2016464e-05,  8.9917233e-04],\n",
       "       [ 7.6575170e-04, -8.2016464e-05,  4.6717215e-04],\n",
       "       [ 7.6575170e-04, -8.2016464e-05,  3.5171986e-05],\n",
       "       [ 7.6575170e-04, -8.2016464e-05, -3.9682817e-04],\n",
       "       [ 7.6575170e-04, -8.2016464e-05, -8.2882831e-04],\n",
       "       [ 7.6575170e-04, -8.2016464e-05, -1.2608285e-03],\n",
       "       [ 7.6575170e-04, -8.2016464e-05, -1.6928283e-03],\n",
       "       [ 7.6575170e-04, -8.2016464e-05, -2.1248281e-03],\n",
       "       [ 7.6575170e-04, -8.2016464e-05, -2.5568279e-03],\n",
       "       [ 7.6575170e-04, -8.2016464e-05, -2.9888276e-03],\n",
       "       [ 7.6575170e-04, -8.2016464e-05, -3.4208274e-03],\n",
       "       [ 7.6575170e-04, -8.2016464e-05, -3.8528272e-03],\n",
       "       [ 7.6575170e-04, -8.2016464e-05, -4.2848270e-03],\n",
       "       [ 7.6575170e-04, -8.2016464e-05, -4.7168271e-03],\n",
       "       [ 7.6575170e-04, -8.2016464e-05, -5.1488271e-03],\n",
       "       [ 7.6575170e-04, -8.2016464e-05, -5.5808267e-03],\n",
       "       [ 7.6575170e-04, -8.2016464e-05, -6.0128267e-03],\n",
       "       [ 7.6575170e-04, -8.2016464e-05, -6.4448263e-03],\n",
       "       [ 7.6575170e-04, -8.2016464e-05, -6.8768263e-03],\n",
       "       [ 7.6575170e-04, -8.2016464e-05, -7.3088263e-03],\n",
       "       [ 0.0000000e+00,  0.0000000e+00, -3.9011150e-09]], dtype=float32), rot=Array([[ 7.11549163e-01,  6.34377124e-03, -1.31123904e-02,\n",
       "         7.02485323e-01],\n",
       "       [ 4.66825604e-01,  7.04660654e-01,  2.80827224e-01,\n",
       "         4.54602301e-01],\n",
       "       [ 6.62768781e-01, -6.78331451e-03,  2.52053171e-01,\n",
       "         7.05096245e-01],\n",
       "       [ 8.53893459e-02,  8.34670186e-01, -4.46694165e-01,\n",
       "         3.10641974e-01],\n",
       "       [ 9.87313271e-01, -1.21953515e-02,  7.19186664e-02,\n",
       "        -1.41037241e-01],\n",
       "       [-3.48069370e-01,  4.91011560e-01, -5.44017136e-01,\n",
       "         5.84637105e-01],\n",
       "       [ 7.62041211e-02,  9.92938519e-01,  5.37066534e-02,\n",
       "         7.33595192e-02],\n",
       "       [-1.00000000e+00,  6.12323426e-17,  0.00000000e+00,\n",
       "         0.00000000e+00],\n",
       "       [-1.00000000e+00,  6.12323426e-17,  0.00000000e+00,\n",
       "         0.00000000e+00],\n",
       "       [-1.00000000e+00,  6.12323426e-17,  0.00000000e+00,\n",
       "         0.00000000e+00],\n",
       "       [-1.00000000e+00,  6.12323426e-17,  0.00000000e+00,\n",
       "         0.00000000e+00],\n",
       "       [-1.00000000e+00,  6.12323426e-17,  0.00000000e+00,\n",
       "         0.00000000e+00],\n",
       "       [-1.00000000e+00,  6.12323426e-17,  0.00000000e+00,\n",
       "         0.00000000e+00],\n",
       "       [-1.00000000e+00,  6.12323426e-17,  0.00000000e+00,\n",
       "         0.00000000e+00],\n",
       "       [-1.00000000e+00,  6.12323426e-17,  0.00000000e+00,\n",
       "         0.00000000e+00],\n",
       "       [-1.00000000e+00,  6.12323426e-17,  0.00000000e+00,\n",
       "         0.00000000e+00],\n",
       "       [-1.00000000e+00,  6.12323426e-17,  0.00000000e+00,\n",
       "         0.00000000e+00],\n",
       "       [-1.00000000e+00,  6.12323426e-17,  0.00000000e+00,\n",
       "         0.00000000e+00],\n",
       "       [-1.00000000e+00,  6.12323426e-17,  0.00000000e+00,\n",
       "         0.00000000e+00],\n",
       "       [-1.00000000e+00,  6.12323426e-17,  0.00000000e+00,\n",
       "         0.00000000e+00],\n",
       "       [-1.00000000e+00,  6.12323426e-17,  0.00000000e+00,\n",
       "         0.00000000e+00],\n",
       "       [-1.00000000e+00,  6.12323426e-17,  0.00000000e+00,\n",
       "         0.00000000e+00],\n",
       "       [-1.00000000e+00,  6.12323426e-17,  0.00000000e+00,\n",
       "         0.00000000e+00],\n",
       "       [-1.00000000e+00,  6.12323426e-17,  0.00000000e+00,\n",
       "         0.00000000e+00],\n",
       "       [-1.00000000e+00,  6.12323426e-17,  0.00000000e+00,\n",
       "         0.00000000e+00],\n",
       "       [-1.00000000e+00,  6.12323426e-17,  0.00000000e+00,\n",
       "         0.00000000e+00],\n",
       "       [-1.00000000e+00,  6.12323426e-17,  0.00000000e+00,\n",
       "         0.00000000e+00],\n",
       "       [-1.00000000e+00,  6.12323426e-17,  0.00000000e+00,\n",
       "         0.00000000e+00],\n",
       "       [-1.00000000e+00,  6.12323426e-17,  0.00000000e+00,\n",
       "         0.00000000e+00],\n",
       "       [-1.00000000e+00,  6.12323426e-17,  0.00000000e+00,\n",
       "         0.00000000e+00],\n",
       "       [-1.00000000e+00,  6.12323426e-17,  0.00000000e+00,\n",
       "         0.00000000e+00],\n",
       "       [-1.00000000e+00,  6.12323426e-17,  0.00000000e+00,\n",
       "         0.00000000e+00],\n",
       "       [ 1.00000000e+00,  0.00000000e+00,  0.00000000e+00,\n",
       "         0.00000000e+00]], dtype=float32)), i=Array([[[ 1.23217392e+00, -6.03115535e-04, -2.60803960e-02],\n",
       "        [-5.95487072e-04,  1.23801804e+00,  1.14668384e-02],\n",
       "        [-2.60666125e-02,  1.14922896e-02,  1.12996968e-02]],\n",
       "\n",
       "       [[ 4.80959453e-02,  1.01912180e-02, -4.77929600e-04],\n",
       "        [ 1.01887444e-02,  6.65331334e-02, -1.24096242e-03],\n",
       "        [-4.82079573e-04, -1.27361831e-03,  2.86478363e-02]],\n",
       "\n",
       "       [[ 4.31732833e-02, -5.09987446e-03, -1.10313641e-02],\n",
       "        [-5.10873692e-03,  3.86990942e-02, -9.78978537e-03],\n",
       "        [-1.10523226e-02, -9.80766304e-03,  1.42515386e-02]],\n",
       "\n",
       "       [[ 1.02906339e-01,  1.98705192e-03,  5.10574225e-03],\n",
       "        [ 1.93161960e-03,  1.01270206e-01,  8.88790376e-03],\n",
       "        [ 5.14245871e-03,  8.89994390e-03,  2.37995628e-02]],\n",
       "\n",
       "       [[ 2.16616690e-01, -5.49048535e-04,  1.29219536e-02],\n",
       "        [-5.87457442e-04,  2.10765913e-01, -1.58114824e-02],\n",
       "        [ 1.28898565e-02, -1.58103630e-02,  1.16422866e-02]],\n",
       "\n",
       "       [[ 2.79677838e-01,  9.31147311e-04, -2.43077017e-02],\n",
       "        [ 9.34351061e-04,  2.85272896e-01, -2.84297648e-03],\n",
       "        [-2.43059285e-02, -2.83782068e-03,  6.51257904e-03]],\n",
       "\n",
       "       [[ 1.07575066e-01,  5.66330447e-04, -1.84143260e-02],\n",
       "        [ 5.68092510e-04,  1.09107763e-01, -6.17491896e-05],\n",
       "        [-1.84194744e-02, -6.12872536e-05,  8.87566432e-03]],\n",
       "\n",
       "       [[ 7.87701050e-04,  5.24711595e-06, -1.96392066e-04],\n",
       "        [ 5.24711595e-06,  8.36238323e-04,  2.09884638e-05],\n",
       "        [-1.96392066e-04,  2.09884638e-05,  4.98655281e-05]],\n",
       "\n",
       "       [[ 5.76351595e-04,  5.24711595e-06, -1.67907710e-04],\n",
       "        [ 5.24711595e-06,  6.24888868e-04,  1.79443359e-05],\n",
       "        [-1.67907710e-04,  1.79443359e-05,  4.98655281e-05]],\n",
       "\n",
       "       [[ 4.02321282e-04,  5.24711595e-06, -1.40172953e-04],\n",
       "        [ 5.24711595e-06,  4.50858526e-04,  1.49803163e-05],\n",
       "        [-1.40172953e-04,  1.49803163e-05,  4.98655281e-05]],\n",
       "\n",
       "       [[ 2.59624911e-04,  5.24711595e-06, -1.12438203e-04],\n",
       "        [ 5.24711595e-06,  3.08162154e-04,  1.20162968e-05],\n",
       "        [-1.12438203e-04,  1.20162968e-05,  4.98655281e-05]],\n",
       "\n",
       "       [[ 1.49558487e-04,  5.24711595e-06, -8.50782380e-05],\n",
       "        [ 5.24711595e-06,  1.98095746e-04,  9.09233131e-06],\n",
       "        [-8.50782380e-05,  9.09233131e-06,  4.98655281e-05]],\n",
       "\n",
       "       [[ 6.91065216e-05,  5.24711595e-06, -5.73434845e-05],\n",
       "        [ 5.24711595e-06,  1.17643773e-04,  6.12831127e-06],\n",
       "        [-5.73434845e-05,  6.12831127e-06,  4.98655281e-05]],\n",
       "\n",
       "       [[ 2.02152132e-05,  5.24711595e-06, -2.97961233e-05],\n",
       "        [ 5.24711595e-06,  6.87524662e-05,  3.18431853e-06],\n",
       "        [-2.97961233e-05,  3.18431853e-06,  4.98655281e-05]],\n",
       "\n",
       "       [[ 2.23582992e-06,  5.24711595e-06, -2.24876408e-06],\n",
       "        [ 5.24711595e-06,  5.07730838e-05,  2.40325932e-07],\n",
       "        [-2.24876408e-06,  2.40325932e-07,  4.98655281e-05]],\n",
       "\n",
       "       [[ 1.51683689e-05,  5.24711595e-06,  2.52985956e-05],\n",
       "        [ 5.24711595e-06,  6.37056219e-05, -2.70366672e-06],\n",
       "        [ 2.52985956e-05, -2.70366672e-06,  4.98655281e-05]],\n",
       "\n",
       "       [[ 5.90128293e-05,  5.24711595e-06,  5.28459568e-05],\n",
       "        [ 5.24711595e-06,  1.07550084e-04, -5.64765924e-06],\n",
       "        [ 5.28459568e-05, -5.64765924e-06,  4.98655281e-05]],\n",
       "\n",
       "       [[ 1.34383619e-04,  5.24711595e-06,  8.05807140e-05],\n",
       "        [ 5.24711595e-06,  1.82920878e-04, -8.61167882e-06],\n",
       "        [ 8.05807140e-05, -8.61167882e-06,  4.98655281e-05]],\n",
       "\n",
       "       [[ 2.39437519e-04,  5.24711595e-06,  1.07940672e-04],\n",
       "        [ 5.24711595e-06,  2.87974777e-04, -1.15356443e-05],\n",
       "        [ 1.07940672e-04, -1.15356443e-05,  4.98655281e-05]],\n",
       "\n",
       "       [[ 3.77052726e-04,  5.24711595e-06,  1.35675436e-04],\n",
       "        [ 5.24711595e-06,  4.25589969e-04, -1.44996648e-05],\n",
       "        [ 1.35675436e-04, -1.44996648e-05,  4.98655281e-05]],\n",
       "\n",
       "       [[ 5.46001829e-04,  5.24711595e-06,  1.63410194e-04],\n",
       "        [ 5.24711595e-06,  5.94539102e-04, -1.74636843e-05],\n",
       "        [ 1.63410194e-04, -1.74636843e-05,  4.98655281e-05]],\n",
       "\n",
       "       [[ 7.46284903e-04,  5.24711595e-06,  1.91144951e-04],\n",
       "        [ 5.24711595e-06,  7.94822176e-04, -2.04277039e-05],\n",
       "        [ 1.91144951e-04, -2.04277039e-05,  4.98655281e-05]],\n",
       "\n",
       "       [[ 9.77901858e-04,  5.24711595e-06,  2.18879708e-04],\n",
       "        [ 5.24711595e-06,  1.02643913e-03, -2.33917235e-05],\n",
       "        [ 2.18879708e-04, -2.33917235e-05,  4.98655281e-05]],\n",
       "\n",
       "       [[ 1.23333407e-03,  5.24711595e-06,  2.45864881e-04],\n",
       "        [ 5.24711595e-06,  1.28187123e-03, -2.62756348e-05],\n",
       "        [ 2.45864881e-04, -2.62756348e-05,  4.98655281e-05]],\n",
       "\n",
       "       [[ 1.53513765e-03,  5.24711595e-06,  2.74349208e-04],\n",
       "        [ 5.24711595e-06,  1.58367481e-03, -2.93197627e-05],\n",
       "        [ 2.74349208e-04, -2.93197627e-05,  4.98655281e-05]],\n",
       "\n",
       "       [[ 1.85154390e-03,  5.24711595e-06,  3.01334396e-04],\n",
       "        [ 5.24711595e-06,  1.90008106e-03, -3.22036758e-05],\n",
       "        [ 3.01334396e-04, -3.22036758e-05,  4.98655281e-05]],\n",
       "\n",
       "       [[ 2.21770909e-03,  5.24711595e-06,  3.29818722e-04],\n",
       "        [ 5.24711595e-06,  2.26624636e-03, -3.52478019e-05],\n",
       "        [ 3.29818722e-04, -3.52478019e-05,  4.98655281e-05]],\n",
       "\n",
       "       [[ 2.59508938e-03,  5.24711595e-06,  3.56803910e-04],\n",
       "        [ 5.24711595e-06,  2.64362665e-03, -3.81317150e-05],\n",
       "        [ 3.56803910e-04, -3.81317150e-05,  4.98655281e-05]],\n",
       "\n",
       "       [[ 3.00213275e-03,  5.24711595e-06,  3.83789069e-04],\n",
       "        [ 5.24711595e-06,  3.05067003e-03, -4.10156244e-05],\n",
       "        [ 3.83789069e-04, -4.10156244e-05,  4.98655281e-05]],\n",
       "\n",
       "       [[ 3.43883946e-03,  5.24711595e-06,  4.10774228e-04],\n",
       "        [ 5.24711595e-06,  3.48737673e-03, -4.38995376e-05],\n",
       "        [ 4.10774228e-04, -4.38995376e-05,  4.98655281e-05]],\n",
       "\n",
       "       [[ 3.95885902e-03,  5.24711595e-06,  4.40757751e-04],\n",
       "        [ 5.24711595e-06,  4.00739629e-03, -4.71038838e-05],\n",
       "        [ 4.40757751e-04, -4.71038838e-05,  4.98655281e-05]],\n",
       "\n",
       "       [[ 4.45818761e-03,  5.24711595e-06,  4.67742910e-04],\n",
       "        [ 5.24711595e-06,  4.50672489e-03, -4.99877933e-05],\n",
       "        [ 4.67742910e-04, -4.99877933e-05,  4.98655281e-05]],\n",
       "\n",
       "       [[ 5.22613525e-04,  0.00000000e+00,  0.00000000e+00],\n",
       "        [ 0.00000000e+00,  5.22613525e-04,  0.00000000e+00],\n",
       "        [ 0.00000000e+00,  0.00000000e+00,  5.22613525e-04]]],      dtype=float32), mass=Array([4.970684 , 0.646926 , 3.228604 , 3.587895 , 1.225946 , 1.666555 ,\n",
       "       0.735522 , 0.012    , 0.012    , 0.012    , 0.012    , 0.012    ,\n",
       "       0.012    , 0.012    , 0.012    , 0.012    , 0.012    , 0.012    ,\n",
       "       0.012    , 0.012    , 0.012    , 0.012    , 0.012    , 0.012    ,\n",
       "       0.012    , 0.012    , 0.012    , 0.012    , 0.012    , 0.012    ,\n",
       "       0.012    , 0.012    , 0.5235988], dtype=float32)), cd=Motion(ang=Array([[0., 0., 0.],\n",
       "       [0., 0., 0.],\n",
       "       [0., 0., 0.],\n",
       "       [0., 0., 0.],\n",
       "       [0., 0., 0.],\n",
       "       [0., 0., 0.],\n",
       "       [0., 0., 0.],\n",
       "       [0., 0., 0.],\n",
       "       [0., 0., 0.],\n",
       "       [0., 0., 0.],\n",
       "       [0., 0., 0.],\n",
       "       [0., 0., 0.],\n",
       "       [0., 0., 0.],\n",
       "       [0., 0., 0.],\n",
       "       [0., 0., 0.],\n",
       "       [0., 0., 0.],\n",
       "       [0., 0., 0.],\n",
       "       [0., 0., 0.],\n",
       "       [0., 0., 0.],\n",
       "       [0., 0., 0.],\n",
       "       [0., 0., 0.],\n",
       "       [0., 0., 0.],\n",
       "       [0., 0., 0.],\n",
       "       [0., 0., 0.],\n",
       "       [0., 0., 0.],\n",
       "       [0., 0., 0.],\n",
       "       [0., 0., 0.],\n",
       "       [0., 0., 0.],\n",
       "       [0., 0., 0.],\n",
       "       [0., 0., 0.],\n",
       "       [0., 0., 0.],\n",
       "       [0., 0., 0.],\n",
       "       [0., 0., 0.]], dtype=float32), vel=Array([[ 0.       ,  0.       ,  0.       ],\n",
       "       [ 0.       ,  0.       ,  0.       ],\n",
       "       [ 0.       ,  0.       ,  0.       ],\n",
       "       [ 0.       ,  0.       ,  0.       ],\n",
       "       [ 0.       ,  0.       ,  0.       ],\n",
       "       [ 0.       ,  0.       ,  0.       ],\n",
       "       [ 0.       ,  0.       ,  0.       ],\n",
       "       [ 0.       ,  0.       ,  0.       ],\n",
       "       [ 0.       ,  0.       ,  0.       ],\n",
       "       [ 0.       ,  0.       ,  0.       ],\n",
       "       [ 0.       ,  0.       ,  0.       ],\n",
       "       [ 0.       ,  0.       ,  0.       ],\n",
       "       [ 0.       ,  0.       ,  0.       ],\n",
       "       [ 0.       ,  0.       ,  0.       ],\n",
       "       [ 0.       ,  0.       ,  0.       ],\n",
       "       [ 0.       ,  0.       ,  0.       ],\n",
       "       [ 0.       ,  0.       ,  0.       ],\n",
       "       [ 0.       ,  0.       ,  0.       ],\n",
       "       [ 0.       ,  0.       ,  0.       ],\n",
       "       [ 0.       ,  0.       ,  0.       ],\n",
       "       [ 0.       ,  0.       ,  0.       ],\n",
       "       [ 0.       ,  0.       ,  0.       ],\n",
       "       [ 0.       ,  0.       ,  0.       ],\n",
       "       [ 0.       ,  0.       ,  0.       ],\n",
       "       [ 0.       ,  0.       ,  0.       ],\n",
       "       [ 0.       ,  0.       ,  0.       ],\n",
       "       [ 0.       ,  0.       ,  0.       ],\n",
       "       [ 0.       ,  0.       ,  0.       ],\n",
       "       [ 0.       ,  0.       ,  0.       ],\n",
       "       [ 0.       ,  0.       ,  0.       ],\n",
       "       [ 0.       ,  0.       ,  0.       ],\n",
       "       [ 0.       ,  0.       ,  0.       ],\n",
       "       [-0.5322151,  6.8883505,  5.8139358]], dtype=float32)), cdof=Motion(ang=Array([[ 0.        ,  0.        ,  1.        ],\n",
       "       [ 0.        ,  0.99999994,  0.        ],\n",
       "       [ 0.        ,  0.        ,  0.9999999 ],\n",
       "       [ 0.        , -0.99999994,  0.        ],\n",
       "       [ 0.        ,  0.        ,  0.99999976],\n",
       "       [ 0.        , -0.99999994,  0.        ],\n",
       "       [ 0.        ,  0.        , -0.99999976],\n",
       "       [ 1.        ,  0.        ,  0.        ],\n",
       "       [ 0.        , -1.        ,  0.        ],\n",
       "       [ 1.        ,  0.        ,  0.        ],\n",
       "       [ 0.        , -1.        ,  0.        ],\n",
       "       [ 1.        ,  0.        ,  0.        ],\n",
       "       [ 0.        , -1.        ,  0.        ],\n",
       "       [ 1.        ,  0.        ,  0.        ],\n",
       "       [ 0.        , -1.        ,  0.        ],\n",
       "       [ 1.        ,  0.        ,  0.        ],\n",
       "       [ 0.        , -1.        ,  0.        ],\n",
       "       [ 1.        ,  0.        ,  0.        ],\n",
       "       [ 0.        , -1.        ,  0.        ],\n",
       "       [ 1.        ,  0.        ,  0.        ],\n",
       "       [ 0.        , -1.        ,  0.        ],\n",
       "       [ 1.        ,  0.        ,  0.        ],\n",
       "       [ 0.        , -1.        ,  0.        ],\n",
       "       [ 1.        ,  0.        ,  0.        ],\n",
       "       [ 0.        , -1.        ,  0.        ],\n",
       "       [ 1.        ,  0.        ,  0.        ],\n",
       "       [ 0.        , -1.        ,  0.        ],\n",
       "       [ 1.        ,  0.        ,  0.        ],\n",
       "       [ 0.        , -1.        ,  0.        ],\n",
       "       [ 1.        ,  0.        ,  0.        ],\n",
       "       [ 0.        , -1.        ,  0.        ],\n",
       "       [ 1.        ,  0.        ,  0.        ],\n",
       "       [ 0.        , -1.        ,  0.        ],\n",
       "       [ 1.        ,  0.        ,  0.        ],\n",
       "       [ 0.        , -1.        ,  0.        ],\n",
       "       [ 1.        ,  0.        ,  0.        ],\n",
       "       [ 0.        , -1.        ,  0.        ],\n",
       "       [ 1.        ,  0.        ,  0.        ],\n",
       "       [ 0.        , -1.        ,  0.        ],\n",
       "       [ 1.        ,  0.        ,  0.        ],\n",
       "       [ 0.        , -1.        ,  0.        ],\n",
       "       [ 1.        ,  0.        ,  0.        ],\n",
       "       [ 0.        , -1.        ,  0.        ],\n",
       "       [ 1.        ,  0.        ,  0.        ],\n",
       "       [ 0.        , -1.        ,  0.        ],\n",
       "       [ 1.        ,  0.        ,  0.        ],\n",
       "       [ 0.        , -1.        ,  0.        ],\n",
       "       [ 1.        ,  0.        ,  0.        ],\n",
       "       [ 0.        , -1.        ,  0.        ],\n",
       "       [ 1.        ,  0.        ,  0.        ],\n",
       "       [ 0.        , -1.        ,  0.        ],\n",
       "       [ 1.        ,  0.        ,  0.        ],\n",
       "       [ 0.        , -1.        ,  0.        ],\n",
       "       [ 1.        ,  0.        ,  0.        ],\n",
       "       [ 0.        , -1.        ,  0.        ],\n",
       "       [ 1.        ,  0.        ,  0.        ],\n",
       "       [ 0.        , -1.        ,  0.        ],\n",
       "       [ 0.        ,  0.        ,  0.        ],\n",
       "       [ 0.        ,  0.        ,  0.        ],\n",
       "       [ 0.        ,  0.        ,  0.        ],\n",
       "       [ 1.        ,  0.        ,  0.        ],\n",
       "       [ 0.        ,  1.        ,  0.        ],\n",
       "       [ 0.        ,  0.        ,  1.        ]], dtype=float32), vel=Array([[-6.8347054e-03,  2.4187349e-02,  0.0000000e+00],\n",
       "       [ 2.7806893e-01,  0.0000000e+00, -2.4187347e-02],\n",
       "       [-6.8347044e-03,  2.4187345e-02,  0.0000000e+00],\n",
       "       [ 3.7931021e-02,  0.0000000e+00, -5.8312651e-02],\n",
       "       [-6.8347040e-03,  2.4187336e-02,  0.0000000e+00],\n",
       "       [ 4.2193100e-01,  0.0000000e+00,  2.4187339e-02],\n",
       "       [ 6.8347040e-03,  6.3812628e-02,  0.0000000e+00],\n",
       "       [ 0.0000000e+00,  2.6993102e-01,  6.8347054e-03],\n",
       "       [ 2.6993102e-01,  0.0000000e+00, -6.3812643e-02],\n",
       "       [ 0.0000000e+00,  2.3393106e-01,  6.8347054e-03],\n",
       "       [ 2.3393106e-01,  0.0000000e+00, -6.3812643e-02],\n",
       "       [ 0.0000000e+00,  1.9793105e-01,  6.8347054e-03],\n",
       "       [ 1.9793105e-01,  0.0000000e+00, -6.3812643e-02],\n",
       "       [ 0.0000000e+00,  1.6193104e-01,  6.8347054e-03],\n",
       "       [ 1.6193104e-01,  0.0000000e+00, -6.3812643e-02],\n",
       "       [ 0.0000000e+00,  1.2593102e-01,  6.8347054e-03],\n",
       "       [ 1.2593102e-01,  0.0000000e+00, -6.3812643e-02],\n",
       "       [ 0.0000000e+00,  8.9931011e-02,  6.8347054e-03],\n",
       "       [ 8.9931011e-02,  0.0000000e+00, -6.3812643e-02],\n",
       "       [ 0.0000000e+00,  5.3930998e-02,  6.8347054e-03],\n",
       "       [ 5.3930998e-02,  0.0000000e+00, -6.3812643e-02],\n",
       "       [ 0.0000000e+00,  1.7930984e-02,  6.8347054e-03],\n",
       "       [ 1.7930984e-02,  0.0000000e+00, -6.3812643e-02],\n",
       "       [ 0.0000000e+00, -1.8069029e-02,  6.8347054e-03],\n",
       "       [-1.8069029e-02,  0.0000000e+00, -6.3812643e-02],\n",
       "       [ 0.0000000e+00, -5.4069042e-02,  6.8347054e-03],\n",
       "       [-5.4069042e-02,  0.0000000e+00, -6.3812643e-02],\n",
       "       [ 0.0000000e+00, -9.0069056e-02,  6.8347054e-03],\n",
       "       [-9.0069056e-02,  0.0000000e+00, -6.3812643e-02],\n",
       "       [ 0.0000000e+00, -1.2606907e-01,  6.8347054e-03],\n",
       "       [-1.2606907e-01,  0.0000000e+00, -6.3812643e-02],\n",
       "       [ 0.0000000e+00, -1.6206902e-01,  6.8347054e-03],\n",
       "       [-1.6206902e-01,  0.0000000e+00, -6.3812643e-02],\n",
       "       [ 0.0000000e+00, -1.9806904e-01,  6.8347054e-03],\n",
       "       [-1.9806904e-01,  0.0000000e+00, -6.3812643e-02],\n",
       "       [ 0.0000000e+00, -2.3406899e-01,  6.8347054e-03],\n",
       "       [-2.3406899e-01,  0.0000000e+00, -6.3812643e-02],\n",
       "       [ 0.0000000e+00, -2.7006900e-01,  6.8347054e-03],\n",
       "       [-2.7006900e-01,  0.0000000e+00, -6.3812643e-02],\n",
       "       [ 0.0000000e+00, -3.0606896e-01,  6.8347054e-03],\n",
       "       [-3.0606896e-01,  0.0000000e+00, -6.3812643e-02],\n",
       "       [ 0.0000000e+00, -3.4206897e-01,  6.8347054e-03],\n",
       "       [-3.4206897e-01,  0.0000000e+00, -6.3812643e-02],\n",
       "       [ 0.0000000e+00, -3.7806892e-01,  6.8347054e-03],\n",
       "       [-3.7806892e-01,  0.0000000e+00, -6.3812643e-02],\n",
       "       [ 0.0000000e+00, -4.1406894e-01,  6.8347054e-03],\n",
       "       [-4.1406894e-01,  0.0000000e+00, -6.3812643e-02],\n",
       "       [ 0.0000000e+00, -4.5006889e-01,  6.8347054e-03],\n",
       "       [-4.5006889e-01,  0.0000000e+00, -6.3812643e-02],\n",
       "       [ 0.0000000e+00, -4.8606890e-01,  6.8347054e-03],\n",
       "       [-4.8606890e-01,  0.0000000e+00, -6.3812643e-02],\n",
       "       [ 0.0000000e+00, -5.2206886e-01,  6.8347054e-03],\n",
       "       [-5.2206886e-01,  0.0000000e+00, -6.3812643e-02],\n",
       "       [ 0.0000000e+00, -5.5806887e-01,  6.8347054e-03],\n",
       "       [-5.5806887e-01,  0.0000000e+00, -6.3812643e-02],\n",
       "       [ 0.0000000e+00, -5.9406888e-01,  6.8347054e-03],\n",
       "       [-5.9406888e-01,  0.0000000e+00, -6.3812643e-02],\n",
       "       [ 1.0000000e+00,  0.0000000e+00,  0.0000000e+00],\n",
       "       [ 0.0000000e+00,  1.0000000e+00,  0.0000000e+00],\n",
       "       [ 0.0000000e+00,  0.0000000e+00,  1.0000000e+00],\n",
       "       [ 0.0000000e+00, -7.4505806e-09,  0.0000000e+00],\n",
       "       [ 7.4505806e-09,  0.0000000e+00,  0.0000000e+00],\n",
       "       [ 0.0000000e+00,  0.0000000e+00,  0.0000000e+00]], dtype=float32)), cdofd=Motion(ang=Array([[ 0.,  0.,  0.],\n",
       "       [ 0.,  0.,  0.],\n",
       "       [ 0.,  0.,  0.],\n",
       "       [ 0.,  0., -0.],\n",
       "       [ 0.,  0.,  0.],\n",
       "       [ 0.,  0., -0.],\n",
       "       [-0.,  0.,  0.],\n",
       "       [ 0.,  0.,  0.],\n",
       "       [ 0.,  0., -0.],\n",
       "       [ 0.,  0.,  0.],\n",
       "       [ 0.,  0., -0.],\n",
       "       [ 0.,  0.,  0.],\n",
       "       [ 0.,  0., -0.],\n",
       "       [ 0.,  0.,  0.],\n",
       "       [ 0.,  0., -0.],\n",
       "       [ 0.,  0.,  0.],\n",
       "       [ 0.,  0., -0.],\n",
       "       [ 0.,  0.,  0.],\n",
       "       [ 0.,  0., -0.],\n",
       "       [ 0.,  0.,  0.],\n",
       "       [ 0.,  0., -0.],\n",
       "       [ 0.,  0.,  0.],\n",
       "       [ 0.,  0., -0.],\n",
       "       [ 0.,  0.,  0.],\n",
       "       [ 0.,  0., -0.],\n",
       "       [ 0.,  0.,  0.],\n",
       "       [ 0.,  0., -0.],\n",
       "       [ 0.,  0.,  0.],\n",
       "       [ 0.,  0., -0.],\n",
       "       [ 0.,  0.,  0.],\n",
       "       [ 0.,  0., -0.],\n",
       "       [ 0.,  0.,  0.],\n",
       "       [ 0.,  0., -0.],\n",
       "       [ 0.,  0.,  0.],\n",
       "       [ 0.,  0., -0.],\n",
       "       [ 0.,  0.,  0.],\n",
       "       [ 0.,  0., -0.],\n",
       "       [ 0.,  0.,  0.],\n",
       "       [ 0.,  0., -0.],\n",
       "       [ 0.,  0.,  0.],\n",
       "       [ 0.,  0., -0.],\n",
       "       [ 0.,  0.,  0.],\n",
       "       [ 0.,  0., -0.],\n",
       "       [ 0.,  0.,  0.],\n",
       "       [ 0.,  0., -0.],\n",
       "       [ 0.,  0.,  0.],\n",
       "       [ 0.,  0., -0.],\n",
       "       [ 0.,  0.,  0.],\n",
       "       [ 0.,  0., -0.],\n",
       "       [ 0.,  0.,  0.],\n",
       "       [ 0.,  0., -0.],\n",
       "       [ 0.,  0.,  0.],\n",
       "       [ 0.,  0., -0.],\n",
       "       [ 0.,  0.,  0.],\n",
       "       [ 0.,  0., -0.],\n",
       "       [ 0.,  0.,  0.],\n",
       "       [ 0.,  0., -0.],\n",
       "       [ 0.,  0.,  0.],\n",
       "       [ 0.,  0.,  0.],\n",
       "       [ 0.,  0.,  0.],\n",
       "       [ 0.,  0.,  0.],\n",
       "       [ 0.,  0.,  0.],\n",
       "       [ 0.,  0.,  0.]], dtype=float32), vel=Array([[ 0.       ,  0.       ,  0.       ],\n",
       "       [ 0.       ,  0.       ,  0.       ],\n",
       "       [ 0.       ,  0.       ,  0.       ],\n",
       "       [ 0.       ,  0.       ,  0.       ],\n",
       "       [ 0.       ,  0.       ,  0.       ],\n",
       "       [ 0.       ,  0.       ,  0.       ],\n",
       "       [ 0.       ,  0.       ,  0.       ],\n",
       "       [ 0.       ,  0.       ,  0.       ],\n",
       "       [ 0.       ,  0.       ,  0.       ],\n",
       "       [ 0.       ,  0.       ,  0.       ],\n",
       "       [ 0.       ,  0.       ,  0.       ],\n",
       "       [ 0.       ,  0.       ,  0.       ],\n",
       "       [ 0.       ,  0.       ,  0.       ],\n",
       "       [ 0.       ,  0.       ,  0.       ],\n",
       "       [ 0.       ,  0.       ,  0.       ],\n",
       "       [ 0.       ,  0.       ,  0.       ],\n",
       "       [ 0.       ,  0.       ,  0.       ],\n",
       "       [ 0.       ,  0.       ,  0.       ],\n",
       "       [ 0.       ,  0.       ,  0.       ],\n",
       "       [ 0.       ,  0.       ,  0.       ],\n",
       "       [ 0.       ,  0.       ,  0.       ],\n",
       "       [ 0.       ,  0.       ,  0.       ],\n",
       "       [ 0.       ,  0.       ,  0.       ],\n",
       "       [ 0.       ,  0.       ,  0.       ],\n",
       "       [ 0.       ,  0.       ,  0.       ],\n",
       "       [ 0.       ,  0.       ,  0.       ],\n",
       "       [ 0.       ,  0.       ,  0.       ],\n",
       "       [ 0.       ,  0.       ,  0.       ],\n",
       "       [ 0.       ,  0.       ,  0.       ],\n",
       "       [ 0.       ,  0.       ,  0.       ],\n",
       "       [ 0.       ,  0.       ,  0.       ],\n",
       "       [ 0.       ,  0.       ,  0.       ],\n",
       "       [ 0.       ,  0.       ,  0.       ],\n",
       "       [ 0.       ,  0.       ,  0.       ],\n",
       "       [ 0.       ,  0.       ,  0.       ],\n",
       "       [ 0.       ,  0.       ,  0.       ],\n",
       "       [ 0.       ,  0.       ,  0.       ],\n",
       "       [ 0.       ,  0.       ,  0.       ],\n",
       "       [ 0.       ,  0.       ,  0.       ],\n",
       "       [ 0.       ,  0.       ,  0.       ],\n",
       "       [ 0.       ,  0.       ,  0.       ],\n",
       "       [ 0.       ,  0.       ,  0.       ],\n",
       "       [ 0.       ,  0.       ,  0.       ],\n",
       "       [ 0.       ,  0.       ,  0.       ],\n",
       "       [ 0.       ,  0.       ,  0.       ],\n",
       "       [ 0.       ,  0.       ,  0.       ],\n",
       "       [ 0.       ,  0.       ,  0.       ],\n",
       "       [ 0.       ,  0.       ,  0.       ],\n",
       "       [ 0.       ,  0.       ,  0.       ],\n",
       "       [ 0.       ,  0.       ,  0.       ],\n",
       "       [ 0.       ,  0.       ,  0.       ],\n",
       "       [ 0.       ,  0.       ,  0.       ],\n",
       "       [ 0.       ,  0.       ,  0.       ],\n",
       "       [ 0.       ,  0.       ,  0.       ],\n",
       "       [ 0.       ,  0.       ,  0.       ],\n",
       "       [ 0.       ,  0.       ,  0.       ],\n",
       "       [ 0.       ,  0.       ,  0.       ],\n",
       "       [ 0.       ,  0.       ,  0.       ],\n",
       "       [ 0.       ,  0.       ,  0.       ],\n",
       "       [ 0.       ,  0.       ,  0.       ],\n",
       "       [ 0.       ,  5.8139358, -6.8883505],\n",
       "       [-5.8139358,  0.       , -0.5322151],\n",
       "       [ 6.8883505,  0.5322151,  0.       ]], dtype=float32)), mass_mx=Array([[ 2.1679267e-01, -6.0516357e-02,  7.9171658e-02, ...,\n",
       "         0.0000000e+00,  0.0000000e+00,  0.0000000e+00],\n",
       "       [-6.0516357e-02,  2.7320356e+00, -5.9717178e-02, ...,\n",
       "         0.0000000e+00,  0.0000000e+00,  0.0000000e+00],\n",
       "       [ 7.9171658e-02, -5.9717178e-02,  1.7917165e-01, ...,\n",
       "         0.0000000e+00,  0.0000000e+00,  0.0000000e+00],\n",
       "       ...,\n",
       "       [ 0.0000000e+00,  0.0000000e+00,  0.0000000e+00, ...,\n",
       "         5.2261353e-04,  0.0000000e+00,  0.0000000e+00],\n",
       "       [ 0.0000000e+00,  0.0000000e+00,  0.0000000e+00, ...,\n",
       "         0.0000000e+00,  5.2261353e-04,  0.0000000e+00],\n",
       "       [ 0.0000000e+00,  0.0000000e+00,  0.0000000e+00, ...,\n",
       "         0.0000000e+00,  0.0000000e+00,  5.2261353e-04]], dtype=float32), mass_mx_inv=Array([[nan, nan, nan, ..., nan, nan, nan],\n",
       "       [nan, nan, nan, ..., nan, nan, nan],\n",
       "       [nan, nan, nan, ..., nan, nan, nan],\n",
       "       ...,\n",
       "       [nan, nan, nan, ..., nan, nan, nan],\n",
       "       [nan, nan, nan, ..., nan, nan, nan],\n",
       "       [nan, nan, nan, ..., nan, nan, nan]], dtype=float32), con_jac=Array([[ 0.,  0.,  0., ...,  0.,  0.,  0.],\n",
       "       [-0.,  0.,  0., ...,  0.,  0.,  0.],\n",
       "       [-0.,  0.,  0., ...,  0.,  0.,  0.],\n",
       "       ...,\n",
       "       [ 0.,  0.,  0., ...,  0.,  0.,  0.],\n",
       "       [ 0.,  0.,  0., ...,  0.,  0.,  0.],\n",
       "       [ 0.,  0.,  0., ...,  0.,  0.,  0.]], dtype=float32), con_diag=Array([0., 0., 0., ..., 0., 0., 0.], dtype=float32), con_aref=Array([-0., -0., -0., ...,  0.,  0.,  0.], dtype=float32), qf_smooth=Array([ 0.0000000e+00,  3.6934159e+00,  0.0000000e+00, -8.3758965e+01,\n",
       "        0.0000000e+00, -1.9532003e+00,  0.0000000e+00, -1.1175871e-08,\n",
       "        1.1920929e-07, -9.3132257e-09,  1.0430813e-07, -7.4505806e-09,\n",
       "        8.9406967e-08, -5.5879354e-09,  7.4505806e-08, -3.7252903e-09,\n",
       "        5.9604645e-08, -3.7252903e-09,  4.4703484e-08, -9.3132257e-10,\n",
       "        2.9802322e-08, -9.3132257e-10,  1.4901161e-08,  0.0000000e+00,\n",
       "        0.0000000e+00,  9.3132257e-10,  0.0000000e+00,  9.3132257e-10,\n",
       "        0.0000000e+00,  9.3132257e-10,  0.0000000e+00,  9.3132257e-10,\n",
       "        0.0000000e+00,  0.0000000e+00,  0.0000000e+00,  0.0000000e+00,\n",
       "        0.0000000e+00,  0.0000000e+00,  0.0000000e+00,  4.6566129e-10,\n",
       "        0.0000000e+00,  4.6566129e-10,  0.0000000e+00,  4.6566129e-10,\n",
       "        0.0000000e+00,  0.0000000e+00,  0.0000000e+00,  0.0000000e+00,\n",
       "        0.0000000e+00,  0.0000000e+00,  1.8626451e-09, -2.3283064e-10,\n",
       "        1.8626451e-09,  0.0000000e+00,  9.3132257e-10,  0.0000000e+00,\n",
       "        4.6566129e-10,  0.0000000e+00,  0.0000000e+00, -5.1365042e+00,\n",
       "        0.0000000e+00,  0.0000000e+00,  0.0000000e+00], dtype=float32), qf_constraint=Array([nan, nan, nan, nan, nan, nan, nan, nan, nan, nan, nan, nan, nan,\n",
       "       nan, nan, nan, nan, nan, nan, nan, nan, nan, nan, nan, nan, nan,\n",
       "       nan, nan, nan, nan, nan, nan, nan, nan, nan, nan, nan, nan, nan,\n",
       "       nan, nan, nan, nan, nan, nan, nan, nan, nan, nan, nan, nan, nan,\n",
       "       nan, nan, nan, nan, nan, nan, nan, nan, nan, nan, nan],      dtype=float32), qdd=Array([nan, nan, nan, nan, nan, nan, nan, nan, nan, nan, nan, nan, nan,\n",
       "       nan, nan, nan, nan, nan, nan, nan, nan, nan, nan, nan, nan, nan,\n",
       "       nan, nan, nan, nan, nan, nan, nan, nan, nan, nan, nan, nan, nan,\n",
       "       nan, nan, nan, nan, nan, nan, nan, nan, nan, nan, nan, nan, nan,\n",
       "       nan, nan, nan, nan, nan, nan, nan, nan, nan, nan, nan],      dtype=float32))"
      ]
     },
     "execution_count": 39,
     "metadata": {},
     "output_type": "execute_result"
    }
   ],
   "source": [
    "state = integrator.integrate(sys, state)\n",
    "state"
   ]
  },
  {
   "cell_type": "code",
   "execution_count": null,
   "metadata": {},
   "outputs": [],
   "source": [
    "tau = actuator.to_tau(sys, act, state.q, state.qd)\n",
    "state = state.replace(qf_smooth=dynamics.forward(sys, state, tau))\n",
    "state = state.replace(qf_constraint=constraint.force(sys, state))\n",
    "\n",
    "# update position/velocity level terms\n",
    "state = integrator.integrate(sys, state)\n",
    "x, xd = kinematics.forward(sys, state.q, state.qd)\n",
    "state = state.replace(x=x, xd=xd)\n",
    "state = dynamics.transform_com(sys, state)\n",
    "state = mass.matrix_inv(sys, state, sys.matrix_inv_iterations)\n",
    "state = constraint.jacobian(sys, state)"
   ]
  },
  {
   "cell_type": "code",
   "execution_count": 16,
   "metadata": {},
   "outputs": [],
   "source": [
    "state = jax.jit(pipeline.step)(sys, state, ctrl)"
   ]
  },
  {
   "cell_type": "code",
   "execution_count": 17,
   "metadata": {},
   "outputs": [
    {
     "data": {
      "text/plain": [
       "Array([nan, nan, nan], dtype=float32)"
      ]
     },
     "execution_count": 17,
     "metadata": {},
     "output_type": "execute_result"
    }
   ],
   "source": [
    "state.x.pos[-1,:]"
   ]
  },
  {
   "cell_type": "code",
   "execution_count": 25,
   "metadata": {},
   "outputs": [
    {
     "data": {
      "text/plain": [
       "Actuator(q_id=Array([0, 1, 2, 3, 4, 5, 6], dtype=int32), qd_id=Array([0, 1, 2, 3, 4, 5, 6], dtype=int32), ctrl_range=Array([[-2.8973,  2.8973],\n",
       "       [-1.7628,  1.7628],\n",
       "       [-2.8973,  2.8973],\n",
       "       [-3.0718, -0.0698],\n",
       "       [-2.8973,  2.8973],\n",
       "       [-0.0175,  3.7525],\n",
       "       [-2.8973,  2.8973]], dtype=float32), gear=Array([1., 1., 1., 1., 1., 1., 1.], dtype=float32), bias_q=Array([-4500., -4500., -3500., -3500., -2000., -2000., -2000.], dtype=float32), bias_qd=Array([-450., -450., -350., -350., -200., -200., -200.], dtype=float32))"
      ]
     },
     "execution_count": 25,
     "metadata": {},
     "output_type": "execute_result"
    }
   ],
   "source": [
    "force_range = jp.array([[-87, 87 ]]*4 + [[-12, 12]]*3)\n",
    "ctrl_range = jp.array([[-2.8973,  2.8973], [-1.7628,  1.7628], [-2.8973,  2.8973], [-3.0718, -0.0698], [-2.8973,  2.8973], [-0.0175,  3.7525], [-2.8973,  2.8973]])\n",
    "sys.actuator.replace(ctrl_range=ctrl_range)"
   ]
  },
  {
   "cell_type": "code",
   "execution_count": 16,
   "metadata": {},
   "outputs": [
    {
     "data": {
      "text/plain": [
       "Array([[-2.8973,  2.8973],\n",
       "       [-1.7628,  1.7628],\n",
       "       [-2.8973,  2.8973],\n",
       "       [-3.0718, -0.0698],\n",
       "       [-2.8973,  2.8973],\n",
       "       [-0.0175,  3.7525],\n",
       "       [-2.8973,  2.8973]], dtype=float32)"
      ]
     },
     "execution_count": 16,
     "metadata": {},
     "output_type": "execute_result"
    }
   ],
   "source": [
    "sys.actuator.ctrl_range"
   ]
  },
  {
   "cell_type": "code",
   "execution_count": 21,
   "metadata": {},
   "outputs": [
    {
     "data": {
      "text/plain": [
       "dict_keys(['q_id', 'qd_id', 'ctrl_range', 'gear', 'bias_q', 'bias_qd'])"
      ]
     },
     "execution_count": 21,
     "metadata": {},
     "output_type": "execute_result"
    }
   ],
   "source": [
    "sys.actuator.__dict__.keys()"
   ]
  },
  {
   "cell_type": "code",
   "execution_count": 127,
   "metadata": {},
   "outputs": [
    {
     "data": {
      "text/plain": [
       "((36, 3), (36, 3))"
      ]
     },
     "execution_count": 127,
     "metadata": {},
     "output_type": "execute_result"
    }
   ],
   "source": [
    "x.pos.shape, xd.ang.shape"
   ]
  },
  {
   "cell_type": "code",
   "execution_count": 23,
   "metadata": {},
   "outputs": [
    {
     "data": {
      "text/plain": [
       "[[-87, 87], [-87, 87], [-87, 87], [-87, 87], [-12, 12], [-12, 12], [-12, 12]]"
      ]
     },
     "execution_count": 23,
     "metadata": {},
     "output_type": "execute_result"
    }
   ],
   "source": []
  }
 ],
 "metadata": {
  "kernelspec": {
   "display_name": "Python 3 (ipykernel)",
   "language": "python",
   "name": "python3"
  },
  "language_info": {
   "codemirror_mode": {
    "name": "ipython",
    "version": 3
   },
   "file_extension": ".py",
   "mimetype": "text/x-python",
   "name": "python",
   "nbconvert_exporter": "python",
   "pygments_lexer": "ipython3",
   "version": "3.8.10"
  },
  "orig_nbformat": 4
 },
 "nbformat": 4,
 "nbformat_minor": 2
}
